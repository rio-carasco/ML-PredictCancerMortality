{
 "cells": [
  {
   "cell_type": "markdown",
   "metadata": {
    "id": "d67FXFqGEIHQ",
    "tags": []
   },
   "source": [
    "# **Predict Cancer Mortality Rates in US Counties**\n",
    "\n",
    "The provided dataset comprises data collected from multiple counties in the US. The task is to predict cancer mortality rates in \"unseen\" US counties, given some training data. The training data ('Training_data.csv') comprises various features/predictors related to socio-economic characteristics, amongst other types of information for specific counties in the country. The corresponding target variables for the training set are provided in a separate CSV file ('Training_data_targets.csv'). \n",
    "\n",
    "Example test data set ('Test_data_example.csv' and 'Test_data_example_targets.csv') is just an example of the final test set that will be used to evaluate the solutions. The provided Test data (I.e. 'Test_data_example.csv' and 'Test_data_example_targets.csv') will not be used as an independent test set when developing the models, but only to prepare the 'prediction/inference' script to make predictions on completely unseen data.\n",
    "\n",
    "The list of predictors/features available in this data set are described below:\n",
    "\n",
    "**Data Dictionary**\n",
    "\n",
    "avgAnnCount: Mean number of reported cases of cancer diagnosed annually\n",
    "\n",
    "avgDeathsPerYear: Mean number of reported mortalities due to cancer\n",
    "\n",
    "incidenceRate: Mean per capita (100,000) cancer diagoses\n",
    "\n",
    "medianIncome: Median income per county \n",
    "\n",
    "popEst2015: Population of county \n",
    "\n",
    "povertyPercent: Percent of populace in poverty \n",
    "\n",
    "MedianAge: Median age of county residents \n",
    "\n",
    "MedianAgeMale: Median age of male county residents \n",
    "\n",
    "MedianAgeFemale: Median age of female county residents \n",
    "\n",
    "AvgHouseholdSize: Mean household size of county \n",
    "\n",
    "PercentMarried: Percent of county residents who are married \n",
    "\n",
    "PctNoHS18_24: Percent of county residents ages 18-24 highest education attained: less than high school \n",
    "\n",
    "PctHS18_24: Percent of county residents ages 18-24 highest education attained: high school diploma \n",
    "\n",
    "PctSomeCol18_24: Percent of county residents ages 18-24 highest education attained: some college \n",
    "\n",
    "PctBachDeg18_24: Percent of county residents ages 18-24 highest education attained: bachelor's degree \n",
    "\n",
    "PctHS25_Over: Percent of county residents ages 25 and over highest education attained: high school diploma \n",
    "\n",
    "PctBachDeg25_Over: Percent of county residents ages 25 and over highest education attained: bachelor's degree \n",
    "\n",
    "PctEmployed16_Over: Percent of county residents ages 16 and over employed \n",
    "\n",
    "PctUnemployed16_Over: Percent of county residents ages 16 and over unemployed \n",
    "\n",
    "PctPrivateCoverage: Percent of county residents with private health coverage \n",
    "\n",
    "PctPrivateCoverageAlone: Percent of county residents with private health coverage alone (no public assistance) \n",
    "\n",
    "PctEmpPrivCoverage: Percent of county residents with employee-provided private health coverage \n",
    "\n",
    "PctPublicCoverage: Percent of county residents with government-provided health coverage \n",
    "\n",
    "PctPubliceCoverageAlone: Percent of county residents with government-provided health coverage alone \n",
    "\n",
    "PctWhite: Percent of county residents who identify as White \n",
    "\n",
    "PctBlack: Percent of county residents who identify as Black \n",
    "\n",
    "PctAsian: Percent of county residents who identify as Asian \n",
    "\n",
    "PctOtherRace: Percent of county residents who identify in a category which is not White, Black, or Asian \n",
    "\n",
    "PctMarriedHouseholds: Percent of married households \n",
    "\n",
    "BirthRate: Number of live births relative to number of women in county "
   ]
  },
  {
   "cell_type": "code",
   "execution_count": 1,
   "metadata": {
    "colab": {
     "base_uri": "https://localhost:8080/"
    },
    "id": "kB3aG5f-D4Q4",
    "outputId": "9b75b8c7-3b20-4ee7-8495-68a992dcf338"
   },
   "outputs": [
    {
     "name": "stdout",
     "output_type": "stream",
     "text": [
      "./Data-for-students-regression/\n"
     ]
    }
   ],
   "source": [
    "# Import necessary libraries\n",
    "import os\n",
    "import pandas as pd\n",
    "import numpy as np\n",
    "%matplotlib inline\n",
    "import matplotlib.pyplot as plt\n",
    "from sklearn.pipeline import Pipeline\n",
    "from sklearn.preprocessing import StandardScaler\n",
    "from sklearn.impute import SimpleImputer\n",
    "from sklearn.model_selection import StratifiedShuffleSplit\n",
    "from sklearn.linear_model import LinearRegression\n",
    "import seaborn as sns\n",
    "from sklearn.linear_model import LogisticRegression\n",
    "from sklearn.metrics import accuracy_score, precision_score, recall_score\n",
    "from sklearn.ensemble import RandomForestClassifier\n",
    "from sklearn.model_selection import GridSearchCV\n",
    "\n",
    "\n",
    "\n",
    "root_dir = './' # this is to be defined by you \n",
    "local_path = 'Data-for-students-regression/' # store the related data files in this folder\n",
    "\n",
    "data_dir = root_dir + local_path\n",
    "print(data_dir)\n",
    "## Define paths to the training data and targets files\n",
    "training_data_path = data_dir + 'Training_data.csv'\n",
    "training_targets_path = data_dir + 'Training_data_targets.csv'"
   ]
  },
  {
   "cell_type": "markdown",
   "metadata": {},
   "source": [
    "# **Part 1**"
   ]
  },
  {
   "cell_type": "markdown",
   "metadata": {
    "id": "tHfmuohnJcc_"
   },
   "source": [
    "Read in the training data and targets files. The training data comprises features/predictors while the targets file comprises the targets (i.e. cancer mortality rates in US counties) that will be needed to train models to predict. "
   ]
  },
  {
   "cell_type": "code",
   "execution_count": 2,
   "metadata": {
    "colab": {
     "base_uri": "https://localhost:8080/"
    },
    "id": "_OEUJpDA2IdP",
    "outputId": "bf6c1b44-bdec-4110-cac9-7cfe74ee4043"
   },
   "outputs": [
    {
     "name": "stdout",
     "output_type": "stream",
     "text": [
      "   TARGET_deathRate\n",
      "0             199.5\n",
      "1             137.1\n",
      "2             126.9\n",
      "3             173.8\n",
      "4             179.8\n",
      "(2438, 1)\n",
      "Index(['avgAnnCount', 'avgDeathsPerYear', 'incidenceRate', 'medIncome',\n",
      "       'popEst2015', 'povertyPercent', 'studyPerCap', 'MedianAge',\n",
      "       'MedianAgeMale', 'MedianAgeFemale', 'AvgHouseholdSize',\n",
      "       'PercentMarried', 'PctNoHS18_24', 'PctHS18_24', 'PctSomeCol18_24',\n",
      "       'PctBachDeg18_24', 'PctHS25_Over', 'PctBachDeg25_Over',\n",
      "       'PctEmployed16_Over', 'PctUnemployed16_Over', 'PctPrivateCoverage',\n",
      "       'PctPrivateCoverageAlone', 'PctEmpPrivCoverage', 'PctPublicCoverage',\n",
      "       'PctPublicCoverageAlone', 'PctWhite', 'PctBlack', 'PctAsian',\n",
      "       'PctOtherRace', 'PctMarriedHouseholds', 'BirthRate'],\n",
      "      dtype='object')\n",
      "   avgAnnCount  avgDeathsPerYear  incidenceRate  medIncome  popEst2015  \\\n",
      "0         59.0                30          404.3      33975        8251   \n",
      "1        114.0                41          403.8      47363       22702   \n",
      "2         33.0                11          352.0      77222        9899   \n",
      "3        254.0               100          429.6      80650       48904   \n",
      "4         75.0                32          407.5      42839       22255   \n",
      "\n",
      "   povertyPercent  studyPerCap  MedianAge  MedianAgeMale  MedianAgeFemale  \\\n",
      "0            20.5          0.0       51.3           50.8             51.9   \n",
      "1            13.8          0.0       40.8           39.8             42.7   \n",
      "2             6.8          0.0       38.1           36.9             39.8   \n",
      "3             7.5          0.0       43.5           42.7             44.1   \n",
      "4            14.6          0.0       31.1           30.2             31.6   \n",
      "\n",
      "   ...  PctPrivateCoverageAlone  PctEmpPrivCoverage  PctPublicCoverage  \\\n",
      "0  ...                      NaN                26.0               49.7   \n",
      "1  ...                     56.5                46.8               31.6   \n",
      "2  ...                     65.4                54.3               18.2   \n",
      "3  ...                     64.2                55.6               28.8   \n",
      "4  ...                     50.7                46.5               26.8   \n",
      "\n",
      "   PctPublicCoverageAlone   PctWhite  PctBlack  PctAsian  PctOtherRace  \\\n",
      "0                    20.6  96.684036  0.438181  0.082899      0.272383   \n",
      "1                    13.0  92.295459  2.102845  0.609648      0.879131   \n",
      "2                     8.6  95.690422  0.000000  0.523871      0.118612   \n",
      "3                    13.5  89.606996  7.407407  0.870370      0.450617   \n",
      "4                    18.1  79.587990  2.948701  8.482564      5.637090   \n",
      "\n",
      "   PctMarriedHouseholds  BirthRate  \n",
      "0             51.926207   5.041436  \n",
      "1             50.949545   6.329661  \n",
      "2             64.532156   5.148130  \n",
      "3             62.344481   5.627462  \n",
      "4             63.005948  10.436469  \n",
      "\n",
      "[5 rows x 31 columns]\n",
      "(2438, 31)\n"
     ]
    }
   ],
   "source": [
    "# Read in the training data and targets files into dataframes\n",
    "tddf = pd.read_csv(training_data_path)\n",
    "ttdf = pd.read_csv(training_targets_path)\n",
    "\n",
    "# Print the first few rows of the training targets dataframe\n",
    "print(ttdf.head())\n",
    "\n",
    "# Print the shape of the training targets dataframe\n",
    "print(ttdf.shape)\n",
    "\n",
    "# Print the column names of the training data dataframe\n",
    "print(tddf.columns)\n",
    "\n",
    "# Print the first few rows of the training data dataframe\n",
    "print(tddf.head())\n",
    "\n",
    "# Print the shape of the training data dataframe\n",
    "print(tddf.shape)"
   ]
  },
  {
   "cell_type": "markdown",
   "metadata": {},
   "source": [
    "Histograms of all features to visualise their distributions and identify outliers:"
   ]
  },
  {
   "cell_type": "code",
   "execution_count": 3,
   "metadata": {
    "colab": {
     "base_uri": "https://localhost:8080/",
     "height": 843
    },
    "id": "pWxNXBr73iHf",
    "outputId": "65d35895-c2e8-4df4-8428-0a51e286fdac"
   },
   "outputs": [
    {
     "data": {
      "text/plain": [
       "array([[<matplotlib.axes._subplots.AxesSubplot object at 0x7f84d34a7190>,\n",
       "        <matplotlib.axes._subplots.AxesSubplot object at 0x7f84d54bc790>,\n",
       "        <matplotlib.axes._subplots.AxesSubplot object at 0x7f84d54f5e10>,\n",
       "        <matplotlib.axes._subplots.AxesSubplot object at 0x7f84d55384d0>,\n",
       "        <matplotlib.axes._subplots.AxesSubplot object at 0x7f84d556eb50>,\n",
       "        <matplotlib.axes._subplots.AxesSubplot object at 0x7f84d55b1210>],\n",
       "       [<matplotlib.axes._subplots.AxesSubplot object at 0x7f84d55e7910>,\n",
       "        <matplotlib.axes._subplots.AxesSubplot object at 0x7f84d561fed0>,\n",
       "        <matplotlib.axes._subplots.AxesSubplot object at 0x7f84d561ff10>,\n",
       "        <matplotlib.axes._subplots.AxesSubplot object at 0x7f84d565f6d0>,\n",
       "        <matplotlib.axes._subplots.AxesSubplot object at 0x7f84d56db310>,\n",
       "        <matplotlib.axes._subplots.AxesSubplot object at 0x7f84d570d990>],\n",
       "       [<matplotlib.axes._subplots.AxesSubplot object at 0x7f84d5745fd0>,\n",
       "        <matplotlib.axes._subplots.AxesSubplot object at 0x7f84d57886d0>,\n",
       "        <matplotlib.axes._subplots.AxesSubplot object at 0x7f84d57bcd50>,\n",
       "        <matplotlib.axes._subplots.AxesSubplot object at 0x7f84d57ff410>,\n",
       "        <matplotlib.axes._subplots.AxesSubplot object at 0x7f84d5836a90>,\n",
       "        <matplotlib.axes._subplots.AxesSubplot object at 0x7f84d5878150>],\n",
       "       [<matplotlib.axes._subplots.AxesSubplot object at 0x7f84d58af7d0>,\n",
       "        <matplotlib.axes._subplots.AxesSubplot object at 0x7f84d5a1de50>,\n",
       "        <matplotlib.axes._subplots.AxesSubplot object at 0x7f84d5a5f510>,\n",
       "        <matplotlib.axes._subplots.AxesSubplot object at 0x7f84d5a95b90>,\n",
       "        <matplotlib.axes._subplots.AxesSubplot object at 0x7f84d5adb250>,\n",
       "        <matplotlib.axes._subplots.AxesSubplot object at 0x7f84d5b0f8d0>],\n",
       "       [<matplotlib.axes._subplots.AxesSubplot object at 0x7f84d5b47f50>,\n",
       "        <matplotlib.axes._subplots.AxesSubplot object at 0x7f84d5b89610>,\n",
       "        <matplotlib.axes._subplots.AxesSubplot object at 0x7f84cf910a10>,\n",
       "        <matplotlib.axes._subplots.AxesSubplot object at 0x7f84d562c7d0>,\n",
       "        <matplotlib.axes._subplots.AxesSubplot object at 0x7f84d57cd8d0>,\n",
       "        <matplotlib.axes._subplots.AxesSubplot object at 0x7f84d5aa4b50>],\n",
       "       [<matplotlib.axes._subplots.AxesSubplot object at 0x7f84d5c91b50>,\n",
       "        <matplotlib.axes._subplots.AxesSubplot object at 0x7f84d5cd3210>,\n",
       "        <matplotlib.axes._subplots.AxesSubplot object at 0x7f84d5e08890>,\n",
       "        <matplotlib.axes._subplots.AxesSubplot object at 0x7f84d5e41f10>,\n",
       "        <matplotlib.axes._subplots.AxesSubplot object at 0x7f84d5e815d0>,\n",
       "        <matplotlib.axes._subplots.AxesSubplot object at 0x7f84d5eb7c50>]],\n",
       "      dtype=object)"
      ]
     },
     "execution_count": 3,
     "metadata": {},
     "output_type": "execute_result"
    },
    {
     "data": {
      "image/png": "[encoded data removed]",
      "text/plain": [
       "<Figure size 1440x1080 with 36 Axes>"
      ]
     },
     "metadata": {
      "needs_background": "light"
     },
     "output_type": "display_data"
    }
   ],
   "source": [
    "tddf.hist(bins = 50, figsize=(20,15))"
   ]
  },
  {
   "cell_type": "markdown",
   "metadata": {},
   "source": [
    "Study per cap is not listed on the Data Dictionary, furthermore most of it's values are at 0 and has a very low realtive correlation to the other features. In this specific situation removing the column is in the best interest of accuracy."
   ]
  },
  {
   "cell_type": "code",
   "execution_count": 155,
   "metadata": {},
   "outputs": [],
   "source": [
    "#tddf = tddf.drop('studyPerCap', axis=1)"
   ]
  },
  {
   "cell_type": "markdown",
   "metadata": {},
   "source": [
    "Other immediately irrelevant features include:     \n",
    "MedianAgeMale: Median age of male county residents (compared to overall median age)\n",
    "MedianAgeFemale: Median age of female county residents (compared to overall median age)\n",
    "PercentMarried: Percent of county residents who are married (compared to percent of married households)\n",
    "BirthRate: Number of live births relative to number of women in county (may have weaker association with cancer mortality rates than other demographic and health-related factors)"
   ]
  },
  {
   "cell_type": "code",
   "execution_count": 156,
   "metadata": {},
   "outputs": [],
   "source": [
    "#tddf.drop(['MedianAgeMale', 'MedianAgeFemale', 'PercentMarried', 'BirthRate'], axis=1, inplace=True)"
   ]
  },
  {
   "cell_type": "code",
   "execution_count": 157,
   "metadata": {},
   "outputs": [],
   "source": [
    "#tddf['PctCoverage'] = tddf['PctPrivateCoverage'] + tddf['PctPublicCoverage']"
   ]
  },
  {
   "cell_type": "code",
   "execution_count": 4,
   "metadata": {},
   "outputs": [
    {
     "data": {
      "text/plain": [
       "48"
      ]
     },
     "execution_count": 4,
     "metadata": {},
     "output_type": "execute_result"
    },
    {
     "data": {
      "image/png": "[encoded data removed]",
      "text/plain": [
       "<Figure size 432x288 with 1 Axes>"
      ]
     },
     "metadata": {
      "needs_background": "light"
     },
     "output_type": "display_data"
    }
   ],
   "source": [
    "plt.hist(tddf['AvgHouseholdSize'], bins = 50)\n",
    "lessthan1 = tddf['AvgHouseholdSize'] < 1\n",
    "tddf[lessthan1]['AvgHouseholdSize']\n",
    "len(tddf[lessthan1]['AvgHouseholdSize'])"
   ]
  },
  {
   "cell_type": "markdown",
   "metadata": {},
   "source": [
    "We have 48 values with an average household size under 1. This doesn't make sense from context and can be considered unusual values. "
   ]
  },
  {
   "cell_type": "code",
   "execution_count": 5,
   "metadata": {},
   "outputs": [
    {
     "data": {
      "text/plain": [
       "(array([2.407e+03, 2.200e+01, 7.000e+00, 1.000e+00, 1.000e+00]),\n",
       " array([6.00000e+00, 4.99780e+03, 9.98960e+03, 1.49814e+04, 1.99732e+04,\n",
       "        2.49650e+04]),\n",
       " <a list of 5 Patch objects>)"
      ]
     },
     "execution_count": 5,
     "metadata": {},
     "output_type": "execute_result"
    },
    {
     "data": {
      "image/png": "[encoded data removed]",
      "text/plain": [
       "<Figure size 432x288 with 1 Axes>"
      ]
     },
     "metadata": {
      "needs_background": "light"
     },
     "output_type": "display_data"
    }
   ],
   "source": [
    "plt.hist(tddf['avgAnnCount'], bins = 5)"
   ]
  },
  {
   "cell_type": "code",
   "execution_count": 6,
   "metadata": {},
   "outputs": [
    {
     "data": {
      "text/plain": [
       "(array([2.409e+03, 2.100e+01, 6.000e+00, 1.000e+00, 1.000e+00]),\n",
       " array([3.0000e+00, 1.8914e+03, 3.7798e+03, 5.6682e+03, 7.5566e+03,\n",
       "        9.4450e+03]),\n",
       " <a list of 5 Patch objects>)"
      ]
     },
     "execution_count": 6,
     "metadata": {},
     "output_type": "execute_result"
    },
    {
     "data": {
      "image/png": "[encoded data removed]",
      "text/plain": [
       "<Figure size 432x288 with 1 Axes>"
      ]
     },
     "metadata": {
      "needs_background": "light"
     },
     "output_type": "display_data"
    }
   ],
   "source": [
    "plt.hist(tddf['avgDeathsPerYear'], bins = 5)"
   ]
  },
  {
   "cell_type": "code",
   "execution_count": 7,
   "metadata": {},
   "outputs": [
    {
     "data": {
      "text/plain": [
       "0         8251\n",
       "1        22702\n",
       "2         9899\n",
       "3        48904\n",
       "4        22255\n",
       "         ...  \n",
       "2433     61109\n",
       "2434     17299\n",
       "2435    118212\n",
       "2436      2640\n",
       "2437    119980\n",
       "Name: popEst2015, Length: 2438, dtype: int64"
      ]
     },
     "execution_count": 7,
     "metadata": {},
     "output_type": "execute_result"
    },
    {
     "data": {
      "image/png": "[encoded data removed]",
      "text/plain": [
       "<Figure size 432x288 with 1 Axes>"
      ]
     },
     "metadata": {
      "needs_background": "light"
     },
     "output_type": "display_data"
    }
   ],
   "source": [
    "plt.hist(tddf['popEst2015'], bins = 50)\n",
    "tddf['popEst2015']"
   ]
  },
  {
   "cell_type": "code",
   "execution_count": 8,
   "metadata": {},
   "outputs": [
    {
     "data": {
      "text/plain": [
       "(array([2402.,   27.,    6.,    0.,    3.]),\n",
       " array([   0.       , 1952.4617996, 3904.9235992, 5857.3853988,\n",
       "        7809.8471984, 9762.308998 ]),\n",
       " <a list of 5 Patch objects>)"
      ]
     },
     "execution_count": 8,
     "metadata": {},
     "output_type": "execute_result"
    },
    {
     "data": {
      "image/png": "[encoded data removed]",
      "text/plain": [
       "<Figure size 432x288 with 1 Axes>"
      ]
     },
     "metadata": {
      "needs_background": "light"
     },
     "output_type": "display_data"
    }
   ],
   "source": [
    "plt.hist(tddf['studyPerCap'], bins = 5)"
   ]
  },
  {
   "cell_type": "code",
   "execution_count": 9,
   "metadata": {},
   "outputs": [
    {
     "data": {
      "text/plain": [
       "26"
      ]
     },
     "execution_count": 9,
     "metadata": {},
     "output_type": "execute_result"
    },
    {
     "data": {
      "image/png": "[encoded data removed]",
      "text/plain": [
       "<Figure size 432x288 with 1 Axes>"
      ]
     },
     "metadata": {
      "needs_background": "light"
     },
     "output_type": "display_data"
    }
   ],
   "source": [
    "plt.hist(tddf['MedianAge'], bins = 5)\n",
    "EternalYouth = tddf['MedianAge'] > 115\n",
    "len(tddf[EternalYouth]['MedianAge'])"
   ]
  },
  {
   "cell_type": "markdown",
   "metadata": {},
   "source": [
    "Here we can see 26 different values with a median age higher than the longest recorded living person. These values can hence be determined from context as unusual."
   ]
  },
  {
   "cell_type": "code",
   "execution_count": 10,
   "metadata": {},
   "outputs": [
    {
     "data": {
      "text/plain": [
       "(array([ 48.,   0.,   0.,   0.,   0.,   0.,   0.,   0.,   0.,   0.,   0.,\n",
       "          2.,  27., 155., 515., 706., 557., 237.,  83.,  48.,  29.,  12.,\n",
       "         11.,   4.,   4.]),\n",
       " array([0.0221  , 0.180016, 0.337932, 0.495848, 0.653764, 0.81168 ,\n",
       "        0.969596, 1.127512, 1.285428, 1.443344, 1.60126 , 1.759176,\n",
       "        1.917092, 2.075008, 2.232924, 2.39084 , 2.548756, 2.706672,\n",
       "        2.864588, 3.022504, 3.18042 , 3.338336, 3.496252, 3.654168,\n",
       "        3.812084, 3.97    ]),\n",
       " <a list of 25 Patch objects>)"
      ]
     },
     "execution_count": 10,
     "metadata": {},
     "output_type": "execute_result"
    },
    {
     "data": {
      "image/png": "[encoded data removed]",
      "text/plain": [
       "<Figure size 432x288 with 1 Axes>"
      ]
     },
     "metadata": {
      "needs_background": "light"
     },
     "output_type": "display_data"
    }
   ],
   "source": [
    "plt.hist(tddf['AvgHouseholdSize'], bins = 25)"
   ]
  },
  {
   "cell_type": "code",
   "execution_count": 11,
   "metadata": {},
   "outputs": [
    {
     "data": {
      "text/plain": [
       "Index(['avgAnnCount', 'avgDeathsPerYear', 'incidenceRate', 'medIncome',\n",
       "       'popEst2015', 'povertyPercent', 'studyPerCap', 'MedianAge',\n",
       "       'MedianAgeMale', 'MedianAgeFemale', 'AvgHouseholdSize',\n",
       "       'PercentMarried', 'PctNoHS18_24', 'PctHS18_24', 'PctSomeCol18_24',\n",
       "       'PctBachDeg18_24', 'PctHS25_Over', 'PctBachDeg25_Over',\n",
       "       'PctEmployed16_Over', 'PctUnemployed16_Over', 'PctPrivateCoverage',\n",
       "       'PctPrivateCoverageAlone', 'PctEmpPrivCoverage', 'PctPublicCoverage',\n",
       "       'PctPublicCoverageAlone', 'PctWhite', 'PctBlack', 'PctAsian',\n",
       "       'PctOtherRace', 'PctMarriedHouseholds', 'BirthRate'],\n",
       "      dtype='object')"
      ]
     },
     "execution_count": 11,
     "metadata": {},
     "output_type": "execute_result"
    }
   ],
   "source": [
    "tddf.columns"
   ]
  },
  {
   "cell_type": "code",
   "execution_count": 12,
   "metadata": {},
   "outputs": [
    {
     "data": {
      "text/plain": [
       "{'PctBachDeg25_Over': 0.49141088348272227,\n",
       " 'incidenceRate': 0.4439832504523902,\n",
       " 'PctPublicCoverageAlone': 0.4397339266743924,\n",
       " 'medIncome': 0.41660680498959196,\n",
       " 'povertyPercent': 0.4132600586542182,\n",
       " 'PctHS25_Over': 0.40991547441220866,\n",
       " 'PctEmployed16_Over': 0.4003168080780501,\n",
       " 'PctPublicCoverage': 0.39189937157960275,\n",
       " 'PctPrivateCoverage': 0.38278606787668445,\n",
       " 'PctUnemployed16_Over': 0.36261238462095713,\n",
       " 'PctPrivateCoverageAlone': 0.35504981746698683,\n",
       " 'PctMarriedHouseholds': 0.2906447675528536,\n",
       " 'PctBachDeg18_24': 0.2845661562073265,\n",
       " 'PctHS18_24': 0.2662847850456024,\n",
       " 'PercentMarried': 0.2661529440921258,\n",
       " 'PctEmpPrivCoverage': 0.2590060894954694,\n",
       " 'PctBlack': 0.2363804223269699,\n",
       " 'PctSomeCol18_24': 0.18613994490057037,\n",
       " 'PctOtherRace': 0.18260203285858256,\n",
       " 'PctAsian': 0.18194756801847348,\n",
       " 'PctWhite': 0.17452114415320313,\n",
       " 'avgAnnCount': 0.15001916740433677,\n",
       " 'popEst2015': 0.13012246061830518,\n",
       " 'avgDeathsPerYear': 0.09404755907149373,\n",
       " 'PctNoHS18_24': 0.09056499653532299,\n",
       " 'BirthRate': 0.08854283555489137,\n",
       " 'AvgHouseholdSize': 0.045545338111067736,\n",
       " 'MedianAgeMale': 0.02726275243122899,\n",
       " 'studyPerCap': 0.024729016970627123,\n",
       " 'MedianAgeFemale': 0.008664665391756633,\n",
       " 'MedianAge': 3.898573115661535e-05}"
      ]
     },
     "execution_count": 12,
     "metadata": {},
     "output_type": "execute_result"
    }
   ],
   "source": [
    "corr = {}\n",
    "corr_abs = {}\n",
    "# Loop through the columns of the training data dataframe\n",
    "for num_feat in range(len(tddf.columns)):\n",
    "    feat = tddf.columns[num_feat]# Get the name of the feature/column\n",
    "    feature = tddf[feat]# Get the values of the feature\n",
    "    target = ttdf.squeeze() # Get the target values\n",
    "    correlation = feature.corr(target)# Calculate the correlation between feature and target\n",
    "    corr[feat] = correlation# Store the correlation value in the dictionary\n",
    "    corr_abs[feat] = np.abs(correlation)# Store the absolute value of correlation in the dictionary\n",
    "# Sort the absolute correlation values in descending order\n",
    "sorted_corr_abs = dict(sorted(corr_abs.items(), key=lambda item: item[1], reverse=True))\n",
    "\n",
    "# Return the sorted dictionary of absolute correlations\n",
    "sorted_corr_abs"
   ]
  },
  {
   "cell_type": "code",
   "execution_count": 13,
   "metadata": {},
   "outputs": [
    {
     "data": {
      "text/plain": [
       "{'incidenceRate': 0.4439832504523902,\n",
       " 'PctPublicCoverageAlone': 0.4397339266743924,\n",
       " 'povertyPercent': 0.4132600586542182,\n",
       " 'PctHS25_Over': 0.40991547441220866,\n",
       " 'PctPublicCoverage': 0.39189937157960275,\n",
       " 'PctUnemployed16_Over': 0.36261238462095713,\n",
       " 'PctHS18_24': 0.2662847850456024,\n",
       " 'PctBlack': 0.2363804223269699,\n",
       " 'PctNoHS18_24': 0.09056499653532299,\n",
       " 'MedianAgeFemale': 0.008664665391756633,\n",
       " 'MedianAge': -3.898573115661535e-05,\n",
       " 'studyPerCap': -0.024729016970627123,\n",
       " 'MedianAgeMale': -0.02726275243122899,\n",
       " 'AvgHouseholdSize': -0.045545338111067736,\n",
       " 'BirthRate': -0.08854283555489137,\n",
       " 'avgDeathsPerYear': -0.09404755907149373,\n",
       " 'popEst2015': -0.13012246061830518,\n",
       " 'avgAnnCount': -0.15001916740433677,\n",
       " 'PctWhite': -0.17452114415320313,\n",
       " 'PctAsian': -0.18194756801847348,\n",
       " 'PctOtherRace': -0.18260203285858256,\n",
       " 'PctSomeCol18_24': -0.18613994490057037,\n",
       " 'PctEmpPrivCoverage': -0.2590060894954694,\n",
       " 'PercentMarried': -0.2661529440921258,\n",
       " 'PctBachDeg18_24': -0.2845661562073265,\n",
       " 'PctMarriedHouseholds': -0.2906447675528536,\n",
       " 'PctPrivateCoverageAlone': -0.35504981746698683,\n",
       " 'PctPrivateCoverage': -0.38278606787668445,\n",
       " 'PctEmployed16_Over': -0.4003168080780501,\n",
       " 'medIncome': -0.41660680498959196,\n",
       " 'PctBachDeg25_Over': -0.49141088348272227}"
      ]
     },
     "execution_count": 13,
     "metadata": {},
     "output_type": "execute_result"
    }
   ],
   "source": [
    "sorted_corr = dict(sorted(corr.items(), key=lambda item: item[1], reverse=True))\n",
    "sorted_corr"
   ]
  },
  {
   "cell_type": "markdown",
   "metadata": {},
   "source": [
    "The top 5 correlations between features and target are:\n",
    "1) 'PctBachDeg25_Over': 0.49141088348272227,\n",
    "2) 'incidenceRate': 0.4439832504523902,\n",
    "3) 'PctPublicCoverageAlone': 0.4397339266743924,\n",
    "4) 'medIncome': 0.41660680498959196,\n",
    "5) 'povertyPercent': 0.4132600586542182"
   ]
  },
  {
   "cell_type": "markdown",
   "metadata": {
    "id": "PvGnxkSC68hH"
   },
   "source": [
    "\n"
   ]
  },
  {
   "cell_type": "code",
   "execution_count": 14,
   "metadata": {},
   "outputs": [
    {
     "data": {
      "text/plain": [
       "array([[<matplotlib.axes._subplots.AxesSubplot object at 0x7f84d839dd10>,\n",
       "        <matplotlib.axes._subplots.AxesSubplot object at 0x7f84d8321450>,\n",
       "        <matplotlib.axes._subplots.AxesSubplot object at 0x7f84d8ca0390>,\n",
       "        <matplotlib.axes._subplots.AxesSubplot object at 0x7f84d8cd4910>,\n",
       "        <matplotlib.axes._subplots.AxesSubplot object at 0x7f84d8d0be90>],\n",
       "       [<matplotlib.axes._subplots.AxesSubplot object at 0x7f84d8d4e450>,\n",
       "        <matplotlib.axes._subplots.AxesSubplot object at 0x7f84d8d82a50>,\n",
       "        <matplotlib.axes._subplots.AxesSubplot object at 0x7f84d8dbcf10>,\n",
       "        <matplotlib.axes._subplots.AxesSubplot object at 0x7f84d8dbcf50>,\n",
       "        <matplotlib.axes._subplots.AxesSubplot object at 0x7f84d8e00610>],\n",
       "       [<matplotlib.axes._subplots.AxesSubplot object at 0x7f84d8e6bfd0>,\n",
       "        <matplotlib.axes._subplots.AxesSubplot object at 0x7f84d8eae5d0>,\n",
       "        <matplotlib.axes._subplots.AxesSubplot object at 0x7f84d8ee5b50>,\n",
       "        <matplotlib.axes._subplots.AxesSubplot object at 0x7f84d8f29110>,\n",
       "        <matplotlib.axes._subplots.AxesSubplot object at 0x7f84d8f5d690>],\n",
       "       [<matplotlib.axes._subplots.AxesSubplot object at 0x7f84d8f95c10>,\n",
       "        <matplotlib.axes._subplots.AxesSubplot object at 0x7f84d8fd81d0>,\n",
       "        <matplotlib.axes._subplots.AxesSubplot object at 0x7f84d900e750>,\n",
       "        <matplotlib.axes._subplots.AxesSubplot object at 0x7f84d9043cd0>,\n",
       "        <matplotlib.axes._subplots.AxesSubplot object at 0x7f84d9087290>],\n",
       "       [<matplotlib.axes._subplots.AxesSubplot object at 0x7f84d90be810>,\n",
       "        <matplotlib.axes._subplots.AxesSubplot object at 0x7f84d90f3d90>,\n",
       "        <matplotlib.axes._subplots.AxesSubplot object at 0x7f84d9136350>,\n",
       "        <matplotlib.axes._subplots.AxesSubplot object at 0x7f84d916d8d0>,\n",
       "        <matplotlib.axes._subplots.AxesSubplot object at 0x7f84d91a4e50>]],\n",
       "      dtype=object)"
      ]
     },
     "execution_count": 14,
     "metadata": {},
     "output_type": "execute_result"
    },
    {
     "data": {
      "image/png": "[encoded data removed]",
      "text/plain": [
       "<Figure size 864x576 with 25 Axes>"
      ]
     },
     "metadata": {
      "needs_background": "light"
     },
     "output_type": "display_data"
    }
   ],
   "source": [
    "attributes = []\n",
    "for i in range(5):\n",
    "    attributes.append(list(sorted_corr.keys())[i])\n",
    "pd.plotting.scatter_matrix(tddf[attributes],figsize=(12,8))"
   ]
  },
  {
   "cell_type": "code",
   "execution_count": 15,
   "metadata": {},
   "outputs": [
    {
     "data": {
      "text/html": [
       "<div>\n",
       "<style scoped>\n",
       "    .dataframe tbody tr th:only-of-type {\n",
       "        vertical-align: middle;\n",
       "    }\n",
       "\n",
       "    .dataframe tbody tr th {\n",
       "        vertical-align: top;\n",
       "    }\n",
       "\n",
       "    .dataframe thead th {\n",
       "        text-align: right;\n",
       "    }\n",
       "</style>\n",
       "<table border=\"1\" class=\"dataframe\">\n",
       "  <thead>\n",
       "    <tr style=\"text-align: right;\">\n",
       "      <th></th>\n",
       "      <th>avgAnnCount</th>\n",
       "      <th>avgDeathsPerYear</th>\n",
       "      <th>incidenceRate</th>\n",
       "      <th>medIncome</th>\n",
       "      <th>popEst2015</th>\n",
       "      <th>povertyPercent</th>\n",
       "      <th>studyPerCap</th>\n",
       "      <th>MedianAge</th>\n",
       "      <th>MedianAgeMale</th>\n",
       "      <th>MedianAgeFemale</th>\n",
       "      <th>...</th>\n",
       "      <th>PctPrivateCoverageAlone</th>\n",
       "      <th>PctEmpPrivCoverage</th>\n",
       "      <th>PctPublicCoverage</th>\n",
       "      <th>PctPublicCoverageAlone</th>\n",
       "      <th>PctWhite</th>\n",
       "      <th>PctBlack</th>\n",
       "      <th>PctAsian</th>\n",
       "      <th>PctOtherRace</th>\n",
       "      <th>PctMarriedHouseholds</th>\n",
       "      <th>BirthRate</th>\n",
       "    </tr>\n",
       "  </thead>\n",
       "  <tbody>\n",
       "    <tr>\n",
       "      <th>avgAnnCount</th>\n",
       "      <td>1.000000</td>\n",
       "      <td>0.925629</td>\n",
       "      <td>0.088404</td>\n",
       "      <td>0.295966</td>\n",
       "      <td>0.910858</td>\n",
       "      <td>-0.145403</td>\n",
       "      <td>0.075999</td>\n",
       "      <td>-0.023985</td>\n",
       "      <td>-0.133984</td>\n",
       "      <td>-0.132119</td>\n",
       "      <td>...</td>\n",
       "      <td>0.208581</td>\n",
       "      <td>0.217851</td>\n",
       "      <td>-0.186578</td>\n",
       "      <td>-0.098921</td>\n",
       "      <td>-0.142871</td>\n",
       "      <td>0.045622</td>\n",
       "      <td>0.439310</td>\n",
       "      <td>0.204692</td>\n",
       "      <td>-0.107790</td>\n",
       "      <td>-0.031411</td>\n",
       "    </tr>\n",
       "    <tr>\n",
       "      <th>avgDeathsPerYear</th>\n",
       "      <td>0.925629</td>\n",
       "      <td>1.000000</td>\n",
       "      <td>0.076366</td>\n",
       "      <td>0.245981</td>\n",
       "      <td>0.974260</td>\n",
       "      <td>-0.071766</td>\n",
       "      <td>0.058823</td>\n",
       "      <td>-0.026180</td>\n",
       "      <td>-0.161470</td>\n",
       "      <td>-0.157283</td>\n",
       "      <td>...</td>\n",
       "      <td>0.144992</td>\n",
       "      <td>0.174785</td>\n",
       "      <td>-0.143274</td>\n",
       "      <td>-0.027424</td>\n",
       "      <td>-0.198555</td>\n",
       "      <td>0.104501</td>\n",
       "      <td>0.452114</td>\n",
       "      <td>0.210216</td>\n",
       "      <td>-0.172902</td>\n",
       "      <td>-0.076740</td>\n",
       "    </tr>\n",
       "    <tr>\n",
       "      <th>incidenceRate</th>\n",
       "      <td>0.088404</td>\n",
       "      <td>0.076366</td>\n",
       "      <td>1.000000</td>\n",
       "      <td>0.019830</td>\n",
       "      <td>0.038854</td>\n",
       "      <td>-0.010297</td>\n",
       "      <td>0.073294</td>\n",
       "      <td>0.019980</td>\n",
       "      <td>-0.024107</td>\n",
       "      <td>-0.015706</td>\n",
       "      <td>...</td>\n",
       "      <td>0.132391</td>\n",
       "      <td>0.168991</td>\n",
       "      <td>0.028814</td>\n",
       "      <td>0.023177</td>\n",
       "      <td>-0.012179</td>\n",
       "      <td>0.107857</td>\n",
       "      <td>-0.011973</td>\n",
       "      <td>-0.199288</td>\n",
       "      <td>-0.153874</td>\n",
       "      <td>-0.124199</td>\n",
       "    </tr>\n",
       "    <tr>\n",
       "      <th>medIncome</th>\n",
       "      <td>0.295966</td>\n",
       "      <td>0.245981</td>\n",
       "      <td>0.019830</td>\n",
       "      <td>1.000000</td>\n",
       "      <td>0.267297</td>\n",
       "      <td>-0.784652</td>\n",
       "      <td>0.037892</td>\n",
       "      <td>-0.012710</td>\n",
       "      <td>-0.087333</td>\n",
       "      <td>-0.147572</td>\n",
       "      <td>...</td>\n",
       "      <td>0.779147</td>\n",
       "      <td>0.741325</td>\n",
       "      <td>-0.744017</td>\n",
       "      <td>-0.709009</td>\n",
       "      <td>0.167919</td>\n",
       "      <td>-0.268610</td>\n",
       "      <td>0.426370</td>\n",
       "      <td>0.085173</td>\n",
       "      <td>0.437030</td>\n",
       "      <td>-0.004586</td>\n",
       "    </tr>\n",
       "    <tr>\n",
       "      <th>popEst2015</th>\n",
       "      <td>0.910858</td>\n",
       "      <td>0.974260</td>\n",
       "      <td>0.038854</td>\n",
       "      <td>0.267297</td>\n",
       "      <td>1.000000</td>\n",
       "      <td>-0.072994</td>\n",
       "      <td>0.052051</td>\n",
       "      <td>-0.026258</td>\n",
       "      <td>-0.198905</td>\n",
       "      <td>-0.200520</td>\n",
       "      <td>...</td>\n",
       "      <td>0.156950</td>\n",
       "      <td>0.179444</td>\n",
       "      <td>-0.182054</td>\n",
       "      <td>-0.046586</td>\n",
       "      <td>-0.206948</td>\n",
       "      <td>0.094921</td>\n",
       "      <td>0.487013</td>\n",
       "      <td>0.241378</td>\n",
       "      <td>-0.140816</td>\n",
       "      <td>-0.058970</td>\n",
       "    </tr>\n",
       "    <tr>\n",
       "      <th>povertyPercent</th>\n",
       "      <td>-0.145403</td>\n",
       "      <td>-0.071766</td>\n",
       "      <td>-0.010297</td>\n",
       "      <td>-0.784652</td>\n",
       "      <td>-0.072994</td>\n",
       "      <td>1.000000</td>\n",
       "      <td>-0.056412</td>\n",
       "      <td>-0.027553</td>\n",
       "      <td>-0.225951</td>\n",
       "      <td>-0.161110</td>\n",
       "      <td>...</td>\n",
       "      <td>-0.755880</td>\n",
       "      <td>-0.680170</td>\n",
       "      <td>0.637825</td>\n",
       "      <td>0.791595</td>\n",
       "      <td>-0.521309</td>\n",
       "      <td>0.514039</td>\n",
       "      <td>-0.146852</td>\n",
       "      <td>0.048187</td>\n",
       "      <td>-0.608710</td>\n",
       "      <td>-0.007939</td>\n",
       "    </tr>\n",
       "    <tr>\n",
       "      <th>studyPerCap</th>\n",
       "      <td>0.075999</td>\n",
       "      <td>0.058823</td>\n",
       "      <td>0.073294</td>\n",
       "      <td>0.037892</td>\n",
       "      <td>0.052051</td>\n",
       "      <td>-0.056412</td>\n",
       "      <td>1.000000</td>\n",
       "      <td>-0.024928</td>\n",
       "      <td>-0.028683</td>\n",
       "      <td>-0.026551</td>\n",
       "      <td>...</td>\n",
       "      <td>0.068951</td>\n",
       "      <td>0.097108</td>\n",
       "      <td>-0.051375</td>\n",
       "      <td>-0.060180</td>\n",
       "      <td>0.023590</td>\n",
       "      <td>-0.015154</td>\n",
       "      <td>0.050457</td>\n",
       "      <td>-0.012287</td>\n",
       "      <td>-0.053582</td>\n",
       "      <td>0.013642</td>\n",
       "    </tr>\n",
       "    <tr>\n",
       "      <th>MedianAge</th>\n",
       "      <td>-0.023985</td>\n",
       "      <td>-0.026180</td>\n",
       "      <td>0.019980</td>\n",
       "      <td>-0.012710</td>\n",
       "      <td>-0.026258</td>\n",
       "      <td>-0.027553</td>\n",
       "      <td>-0.024928</td>\n",
       "      <td>1.000000</td>\n",
       "      <td>0.120028</td>\n",
       "      <td>0.114730</td>\n",
       "      <td>...</td>\n",
       "      <td>-0.022527</td>\n",
       "      <td>-0.040283</td>\n",
       "      <td>0.044408</td>\n",
       "      <td>-0.000778</td>\n",
       "      <td>0.030499</td>\n",
       "      <td>-0.015966</td>\n",
       "      <td>-0.035611</td>\n",
       "      <td>-0.022336</td>\n",
       "      <td>0.013293</td>\n",
       "      <td>-0.010819</td>\n",
       "    </tr>\n",
       "    <tr>\n",
       "      <th>MedianAgeMale</th>\n",
       "      <td>-0.133984</td>\n",
       "      <td>-0.161470</td>\n",
       "      <td>-0.024107</td>\n",
       "      <td>-0.087333</td>\n",
       "      <td>-0.198905</td>\n",
       "      <td>-0.225951</td>\n",
       "      <td>-0.028683</td>\n",
       "      <td>0.120028</td>\n",
       "      <td>1.000000</td>\n",
       "      <td>0.933590</td>\n",
       "      <td>...</td>\n",
       "      <td>-0.160092</td>\n",
       "      <td>-0.200032</td>\n",
       "      <td>0.400369</td>\n",
       "      <td>-0.008339</td>\n",
       "      <td>0.410732</td>\n",
       "      <td>-0.246943</td>\n",
       "      <td>-0.238355</td>\n",
       "      <td>-0.271889</td>\n",
       "      <td>0.231655</td>\n",
       "      <td>-0.119879</td>\n",
       "    </tr>\n",
       "    <tr>\n",
       "      <th>MedianAgeFemale</th>\n",
       "      <td>-0.132119</td>\n",
       "      <td>-0.157283</td>\n",
       "      <td>-0.015706</td>\n",
       "      <td>-0.147572</td>\n",
       "      <td>-0.200520</td>\n",
       "      <td>-0.161110</td>\n",
       "      <td>-0.026551</td>\n",
       "      <td>0.114730</td>\n",
       "      <td>0.933590</td>\n",
       "      <td>1.000000</td>\n",
       "      <td>...</td>\n",
       "      <td>-0.204603</td>\n",
       "      <td>-0.243926</td>\n",
       "      <td>0.455809</td>\n",
       "      <td>0.035296</td>\n",
       "      <td>0.356317</td>\n",
       "      <td>-0.161982</td>\n",
       "      <td>-0.262634</td>\n",
       "      <td>-0.272233</td>\n",
       "      <td>0.175597</td>\n",
       "      <td>-0.116227</td>\n",
       "    </tr>\n",
       "    <tr>\n",
       "      <th>AvgHouseholdSize</th>\n",
       "      <td>0.065331</td>\n",
       "      <td>0.089790</td>\n",
       "      <td>-0.115918</td>\n",
       "      <td>0.111194</td>\n",
       "      <td>0.120280</td>\n",
       "      <td>0.077601</td>\n",
       "      <td>-0.002245</td>\n",
       "      <td>-0.030171</td>\n",
       "      <td>-0.354681</td>\n",
       "      <td>-0.381636</td>\n",
       "      <td>...</td>\n",
       "      <td>-0.013252</td>\n",
       "      <td>0.003994</td>\n",
       "      <td>-0.140265</td>\n",
       "      <td>0.066026</td>\n",
       "      <td>-0.202372</td>\n",
       "      <td>0.033880</td>\n",
       "      <td>0.129262</td>\n",
       "      <td>0.235052</td>\n",
       "      <td>0.094345</td>\n",
       "      <td>0.100719</td>\n",
       "    </tr>\n",
       "    <tr>\n",
       "      <th>PercentMarried</th>\n",
       "      <td>-0.109242</td>\n",
       "      <td>-0.196273</td>\n",
       "      <td>-0.128680</td>\n",
       "      <td>0.341388</td>\n",
       "      <td>-0.177654</td>\n",
       "      <td>-0.645714</td>\n",
       "      <td>-0.040711</td>\n",
       "      <td>0.043809</td>\n",
       "      <td>0.461010</td>\n",
       "      <td>0.390411</td>\n",
       "      <td>...</td>\n",
       "      <td>0.328783</td>\n",
       "      <td>0.229145</td>\n",
       "      <td>-0.234806</td>\n",
       "      <td>-0.456783</td>\n",
       "      <td>0.676163</td>\n",
       "      <td>-0.614234</td>\n",
       "      <td>-0.164442</td>\n",
       "      <td>-0.110722</td>\n",
       "      <td>0.866697</td>\n",
       "      <td>0.130521</td>\n",
       "    </tr>\n",
       "    <tr>\n",
       "      <th>PctNoHS18_24</th>\n",
       "      <td>-0.151504</td>\n",
       "      <td>-0.146968</td>\n",
       "      <td>-0.180752</td>\n",
       "      <td>-0.289839</td>\n",
       "      <td>-0.139967</td>\n",
       "      <td>0.291065</td>\n",
       "      <td>-0.090511</td>\n",
       "      <td>-0.002629</td>\n",
       "      <td>0.093239</td>\n",
       "      <td>0.129779</td>\n",
       "      <td>...</td>\n",
       "      <td>-0.460741</td>\n",
       "      <td>-0.431147</td>\n",
       "      <td>0.318319</td>\n",
       "      <td>0.329167</td>\n",
       "      <td>-0.168047</td>\n",
       "      <td>0.112953</td>\n",
       "      <td>-0.212225</td>\n",
       "      <td>0.129271</td>\n",
       "      <td>0.001598</td>\n",
       "      <td>0.135538</td>\n",
       "    </tr>\n",
       "    <tr>\n",
       "      <th>PctHS18_24</th>\n",
       "      <td>-0.190501</td>\n",
       "      <td>-0.158492</td>\n",
       "      <td>0.005005</td>\n",
       "      <td>-0.192653</td>\n",
       "      <td>-0.165381</td>\n",
       "      <td>0.085429</td>\n",
       "      <td>-0.060575</td>\n",
       "      <td>0.053682</td>\n",
       "      <td>0.248084</td>\n",
       "      <td>0.255056</td>\n",
       "      <td>...</td>\n",
       "      <td>-0.290008</td>\n",
       "      <td>-0.245800</td>\n",
       "      <td>0.282096</td>\n",
       "      <td>0.230206</td>\n",
       "      <td>0.036446</td>\n",
       "      <td>-0.020513</td>\n",
       "      <td>-0.200754</td>\n",
       "      <td>-0.063570</td>\n",
       "      <td>0.120971</td>\n",
       "      <td>0.054943</td>\n",
       "    </tr>\n",
       "    <tr>\n",
       "      <th>PctSomeCol18_24</th>\n",
       "      <td>0.128736</td>\n",
       "      <td>0.117859</td>\n",
       "      <td>0.102512</td>\n",
       "      <td>0.210340</td>\n",
       "      <td>0.113264</td>\n",
       "      <td>-0.122980</td>\n",
       "      <td>0.083320</td>\n",
       "      <td>-0.019274</td>\n",
       "      <td>-0.313868</td>\n",
       "      <td>-0.351422</td>\n",
       "      <td>...</td>\n",
       "      <td>0.434282</td>\n",
       "      <td>0.369226</td>\n",
       "      <td>-0.371568</td>\n",
       "      <td>-0.318642</td>\n",
       "      <td>0.077844</td>\n",
       "      <td>-0.045076</td>\n",
       "      <td>0.229539</td>\n",
       "      <td>-0.059074</td>\n",
       "      <td>-0.090703</td>\n",
       "      <td>-0.084888</td>\n",
       "    </tr>\n",
       "    <tr>\n",
       "      <th>PctBachDeg18_24</th>\n",
       "      <td>0.289231</td>\n",
       "      <td>0.267919</td>\n",
       "      <td>0.048906</td>\n",
       "      <td>0.486720</td>\n",
       "      <td>0.266105</td>\n",
       "      <td>-0.372643</td>\n",
       "      <td>0.054490</td>\n",
       "      <td>-0.012351</td>\n",
       "      <td>-0.028581</td>\n",
       "      <td>-0.064346</td>\n",
       "      <td>...</td>\n",
       "      <td>0.488267</td>\n",
       "      <td>0.432715</td>\n",
       "      <td>-0.409227</td>\n",
       "      <td>-0.410964</td>\n",
       "      <td>0.069682</td>\n",
       "      <td>-0.088239</td>\n",
       "      <td>0.342527</td>\n",
       "      <td>0.016352</td>\n",
       "      <td>-0.001165</td>\n",
       "      <td>-0.128869</td>\n",
       "    </tr>\n",
       "    <tr>\n",
       "      <th>PctHS25_Over</th>\n",
       "      <td>-0.332045</td>\n",
       "      <td>-0.315693</td>\n",
       "      <td>0.110357</td>\n",
       "      <td>-0.461782</td>\n",
       "      <td>-0.343430</td>\n",
       "      <td>0.186438</td>\n",
       "      <td>-0.082314</td>\n",
       "      <td>0.023923</td>\n",
       "      <td>0.316855</td>\n",
       "      <td>0.345140</td>\n",
       "      <td>...</td>\n",
       "      <td>-0.296405</td>\n",
       "      <td>-0.212799</td>\n",
       "      <td>0.424754</td>\n",
       "      <td>0.293941</td>\n",
       "      <td>0.189150</td>\n",
       "      <td>-0.026607</td>\n",
       "      <td>-0.440388</td>\n",
       "      <td>-0.291115</td>\n",
       "      <td>0.070038</td>\n",
       "      <td>0.001762</td>\n",
       "    </tr>\n",
       "    <tr>\n",
       "      <th>PctBachDeg25_Over</th>\n",
       "      <td>0.341211</td>\n",
       "      <td>0.314854</td>\n",
       "      <td>-0.024455</td>\n",
       "      <td>0.691206</td>\n",
       "      <td>0.330477</td>\n",
       "      <td>-0.519242</td>\n",
       "      <td>0.100330</td>\n",
       "      <td>-0.016329</td>\n",
       "      <td>-0.128331</td>\n",
       "      <td>-0.178568</td>\n",
       "      <td>...</td>\n",
       "      <td>0.640881</td>\n",
       "      <td>0.526968</td>\n",
       "      <td>-0.627026</td>\n",
       "      <td>-0.599208</td>\n",
       "      <td>0.054142</td>\n",
       "      <td>-0.146731</td>\n",
       "      <td>0.433174</td>\n",
       "      <td>0.036511</td>\n",
       "      <td>0.084016</td>\n",
       "      <td>-0.085756</td>\n",
       "    </tr>\n",
       "    <tr>\n",
       "      <th>PctEmployed16_Over</th>\n",
       "      <td>0.214589</td>\n",
       "      <td>0.134771</td>\n",
       "      <td>0.016767</td>\n",
       "      <td>0.687290</td>\n",
       "      <td>0.156432</td>\n",
       "      <td>-0.730213</td>\n",
       "      <td>0.081534</td>\n",
       "      <td>-0.015197</td>\n",
       "      <td>-0.155784</td>\n",
       "      <td>-0.240815</td>\n",
       "      <td>...</td>\n",
       "      <td>0.777345</td>\n",
       "      <td>0.697025</td>\n",
       "      <td>-0.764325</td>\n",
       "      <td>-0.703244</td>\n",
       "      <td>0.273435</td>\n",
       "      <td>-0.338321</td>\n",
       "      <td>0.233849</td>\n",
       "      <td>0.046778</td>\n",
       "      <td>0.317036</td>\n",
       "      <td>0.075684</td>\n",
       "    </tr>\n",
       "    <tr>\n",
       "      <th>PctUnemployed16_Over</th>\n",
       "      <td>-0.005370</td>\n",
       "      <td>0.080343</td>\n",
       "      <td>0.093446</td>\n",
       "      <td>-0.435856</td>\n",
       "      <td>0.060341</td>\n",
       "      <td>0.644262</td>\n",
       "      <td>-0.029057</td>\n",
       "      <td>0.019842</td>\n",
       "      <td>-0.160817</td>\n",
       "      <td>-0.132801</td>\n",
       "      <td>...</td>\n",
       "      <td>-0.563931</td>\n",
       "      <td>-0.459120</td>\n",
       "      <td>0.507699</td>\n",
       "      <td>0.640910</td>\n",
       "      <td>-0.512469</td>\n",
       "      <td>0.463048</td>\n",
       "      <td>-0.009650</td>\n",
       "      <td>0.033345</td>\n",
       "      <td>-0.473775</td>\n",
       "      <td>-0.043942</td>\n",
       "    </tr>\n",
       "    <tr>\n",
       "      <th>PctPrivateCoverage</th>\n",
       "      <td>0.141329</td>\n",
       "      <td>0.060359</td>\n",
       "      <td>0.123442</td>\n",
       "      <td>0.716724</td>\n",
       "      <td>0.059730</td>\n",
       "      <td>-0.818394</td>\n",
       "      <td>0.092791</td>\n",
       "      <td>-0.002673</td>\n",
       "      <td>0.092661</td>\n",
       "      <td>0.056607</td>\n",
       "      <td>...</td>\n",
       "      <td>0.932841</td>\n",
       "      <td>0.826129</td>\n",
       "      <td>-0.711636</td>\n",
       "      <td>-0.884986</td>\n",
       "      <td>0.449167</td>\n",
       "      <td>-0.348987</td>\n",
       "      <td>0.175665</td>\n",
       "      <td>-0.174630</td>\n",
       "      <td>0.436973</td>\n",
       "      <td>-0.047879</td>\n",
       "    </tr>\n",
       "    <tr>\n",
       "      <th>PctPrivateCoverageAlone</th>\n",
       "      <td>0.208581</td>\n",
       "      <td>0.144992</td>\n",
       "      <td>0.132391</td>\n",
       "      <td>0.779147</td>\n",
       "      <td>0.156950</td>\n",
       "      <td>-0.755880</td>\n",
       "      <td>0.068951</td>\n",
       "      <td>-0.022527</td>\n",
       "      <td>-0.160092</td>\n",
       "      <td>-0.204603</td>\n",
       "      <td>...</td>\n",
       "      <td>1.000000</td>\n",
       "      <td>0.928027</td>\n",
       "      <td>-0.858239</td>\n",
       "      <td>-0.851806</td>\n",
       "      <td>0.322965</td>\n",
       "      <td>-0.275659</td>\n",
       "      <td>0.280456</td>\n",
       "      <td>-0.085142</td>\n",
       "      <td>0.390690</td>\n",
       "      <td>-0.043249</td>\n",
       "    </tr>\n",
       "    <tr>\n",
       "      <th>PctEmpPrivCoverage</th>\n",
       "      <td>0.217851</td>\n",
       "      <td>0.174785</td>\n",
       "      <td>0.168991</td>\n",
       "      <td>0.741325</td>\n",
       "      <td>0.179444</td>\n",
       "      <td>-0.680170</td>\n",
       "      <td>0.097108</td>\n",
       "      <td>-0.040283</td>\n",
       "      <td>-0.200032</td>\n",
       "      <td>-0.243926</td>\n",
       "      <td>...</td>\n",
       "      <td>0.928027</td>\n",
       "      <td>1.000000</td>\n",
       "      <td>-0.772099</td>\n",
       "      <td>-0.725499</td>\n",
       "      <td>0.281994</td>\n",
       "      <td>-0.241226</td>\n",
       "      <td>0.274673</td>\n",
       "      <td>-0.060240</td>\n",
       "      <td>0.320655</td>\n",
       "      <td>-0.088669</td>\n",
       "    </tr>\n",
       "    <tr>\n",
       "      <th>PctPublicCoverage</th>\n",
       "      <td>-0.186578</td>\n",
       "      <td>-0.143274</td>\n",
       "      <td>0.028814</td>\n",
       "      <td>-0.744017</td>\n",
       "      <td>-0.182054</td>\n",
       "      <td>0.637825</td>\n",
       "      <td>-0.051375</td>\n",
       "      <td>0.044408</td>\n",
       "      <td>0.400369</td>\n",
       "      <td>0.455809</td>\n",
       "      <td>...</td>\n",
       "      <td>-0.858239</td>\n",
       "      <td>-0.772099</td>\n",
       "      <td>1.000000</td>\n",
       "      <td>0.859061</td>\n",
       "      <td>-0.133553</td>\n",
       "      <td>0.191503</td>\n",
       "      <td>-0.304227</td>\n",
       "      <td>-0.081197</td>\n",
       "      <td>-0.352406</td>\n",
       "      <td>-0.041023</td>\n",
       "    </tr>\n",
       "    <tr>\n",
       "      <th>PctPublicCoverageAlone</th>\n",
       "      <td>-0.098921</td>\n",
       "      <td>-0.027424</td>\n",
       "      <td>0.023177</td>\n",
       "      <td>-0.709009</td>\n",
       "      <td>-0.046586</td>\n",
       "      <td>0.791595</td>\n",
       "      <td>-0.060180</td>\n",
       "      <td>-0.000778</td>\n",
       "      <td>-0.008339</td>\n",
       "      <td>0.035296</td>\n",
       "      <td>...</td>\n",
       "      <td>-0.851806</td>\n",
       "      <td>-0.725499</td>\n",
       "      <td>0.859061</td>\n",
       "      <td>1.000000</td>\n",
       "      <td>-0.375380</td>\n",
       "      <td>0.330055</td>\n",
       "      <td>-0.171333</td>\n",
       "      <td>0.088091</td>\n",
       "      <td>-0.471138</td>\n",
       "      <td>0.000393</td>\n",
       "    </tr>\n",
       "    <tr>\n",
       "      <th>PctWhite</th>\n",
       "      <td>-0.142871</td>\n",
       "      <td>-0.198555</td>\n",
       "      <td>-0.012179</td>\n",
       "      <td>0.167919</td>\n",
       "      <td>-0.206948</td>\n",
       "      <td>-0.521309</td>\n",
       "      <td>0.023590</td>\n",
       "      <td>0.030499</td>\n",
       "      <td>0.410732</td>\n",
       "      <td>0.356317</td>\n",
       "      <td>...</td>\n",
       "      <td>0.322965</td>\n",
       "      <td>0.281994</td>\n",
       "      <td>-0.133553</td>\n",
       "      <td>-0.375380</td>\n",
       "      <td>1.000000</td>\n",
       "      <td>-0.815266</td>\n",
       "      <td>-0.270133</td>\n",
       "      <td>-0.239500</td>\n",
       "      <td>0.598400</td>\n",
       "      <td>-0.016281</td>\n",
       "    </tr>\n",
       "    <tr>\n",
       "      <th>PctBlack</th>\n",
       "      <td>0.045622</td>\n",
       "      <td>0.104501</td>\n",
       "      <td>0.107857</td>\n",
       "      <td>-0.268610</td>\n",
       "      <td>0.094921</td>\n",
       "      <td>0.514039</td>\n",
       "      <td>-0.015154</td>\n",
       "      <td>-0.015966</td>\n",
       "      <td>-0.246943</td>\n",
       "      <td>-0.161982</td>\n",
       "      <td>...</td>\n",
       "      <td>-0.275659</td>\n",
       "      <td>-0.241226</td>\n",
       "      <td>0.191503</td>\n",
       "      <td>0.330055</td>\n",
       "      <td>-0.815266</td>\n",
       "      <td>1.000000</td>\n",
       "      <td>0.022194</td>\n",
       "      <td>-0.014341</td>\n",
       "      <td>-0.570399</td>\n",
       "      <td>-0.072928</td>\n",
       "    </tr>\n",
       "    <tr>\n",
       "      <th>PctAsian</th>\n",
       "      <td>0.439310</td>\n",
       "      <td>0.452114</td>\n",
       "      <td>-0.011973</td>\n",
       "      <td>0.426370</td>\n",
       "      <td>0.487013</td>\n",
       "      <td>-0.146852</td>\n",
       "      <td>0.050457</td>\n",
       "      <td>-0.035611</td>\n",
       "      <td>-0.238355</td>\n",
       "      <td>-0.262634</td>\n",
       "      <td>...</td>\n",
       "      <td>0.280456</td>\n",
       "      <td>0.274673</td>\n",
       "      <td>-0.304227</td>\n",
       "      <td>-0.171333</td>\n",
       "      <td>-0.270133</td>\n",
       "      <td>0.022194</td>\n",
       "      <td>1.000000</td>\n",
       "      <td>0.214752</td>\n",
       "      <td>-0.104287</td>\n",
       "      <td>-0.061945</td>\n",
       "    </tr>\n",
       "    <tr>\n",
       "      <th>PctOtherRace</th>\n",
       "      <td>0.204692</td>\n",
       "      <td>0.210216</td>\n",
       "      <td>-0.199288</td>\n",
       "      <td>0.085173</td>\n",
       "      <td>0.241378</td>\n",
       "      <td>0.048187</td>\n",
       "      <td>-0.012287</td>\n",
       "      <td>-0.022336</td>\n",
       "      <td>-0.271889</td>\n",
       "      <td>-0.272233</td>\n",
       "      <td>...</td>\n",
       "      <td>-0.085142</td>\n",
       "      <td>-0.060240</td>\n",
       "      <td>-0.081197</td>\n",
       "      <td>0.088091</td>\n",
       "      <td>-0.239500</td>\n",
       "      <td>-0.014341</td>\n",
       "      <td>0.214752</td>\n",
       "      <td>1.000000</td>\n",
       "      <td>-0.027524</td>\n",
       "      <td>0.060009</td>\n",
       "    </tr>\n",
       "    <tr>\n",
       "      <th>PctMarriedHouseholds</th>\n",
       "      <td>-0.107790</td>\n",
       "      <td>-0.172902</td>\n",
       "      <td>-0.153874</td>\n",
       "      <td>0.437030</td>\n",
       "      <td>-0.140816</td>\n",
       "      <td>-0.608710</td>\n",
       "      <td>-0.053582</td>\n",
       "      <td>0.013293</td>\n",
       "      <td>0.231655</td>\n",
       "      <td>0.175597</td>\n",
       "      <td>...</td>\n",
       "      <td>0.390690</td>\n",
       "      <td>0.320655</td>\n",
       "      <td>-0.352406</td>\n",
       "      <td>-0.471138</td>\n",
       "      <td>0.598400</td>\n",
       "      <td>-0.570399</td>\n",
       "      <td>-0.104287</td>\n",
       "      <td>-0.027524</td>\n",
       "      <td>1.000000</td>\n",
       "      <td>0.100082</td>\n",
       "    </tr>\n",
       "    <tr>\n",
       "      <th>BirthRate</th>\n",
       "      <td>-0.031411</td>\n",
       "      <td>-0.076740</td>\n",
       "      <td>-0.124199</td>\n",
       "      <td>-0.004586</td>\n",
       "      <td>-0.058970</td>\n",
       "      <td>-0.007939</td>\n",
       "      <td>0.013642</td>\n",
       "      <td>-0.010819</td>\n",
       "      <td>-0.119879</td>\n",
       "      <td>-0.116227</td>\n",
       "      <td>...</td>\n",
       "      <td>-0.043249</td>\n",
       "      <td>-0.088669</td>\n",
       "      <td>-0.041023</td>\n",
       "      <td>0.000393</td>\n",
       "      <td>-0.016281</td>\n",
       "      <td>-0.072928</td>\n",
       "      <td>-0.061945</td>\n",
       "      <td>0.060009</td>\n",
       "      <td>0.100082</td>\n",
       "      <td>1.000000</td>\n",
       "    </tr>\n",
       "  </tbody>\n",
       "</table>\n",
       "<p>31 rows × 31 columns</p>\n",
       "</div>"
      ],
      "text/plain": [
       "                         avgAnnCount  avgDeathsPerYear  incidenceRate  \\\n",
       "avgAnnCount                 1.000000          0.925629       0.088404   \n",
       "avgDeathsPerYear            0.925629          1.000000       0.076366   \n",
       "incidenceRate               0.088404          0.076366       1.000000   \n",
       "medIncome                   0.295966          0.245981       0.019830   \n",
       "popEst2015                  0.910858          0.974260       0.038854   \n",
       "povertyPercent             -0.145403         -0.071766      -0.010297   \n",
       "studyPerCap                 0.075999          0.058823       0.073294   \n",
       "MedianAge                  -0.023985         -0.026180       0.019980   \n",
       "MedianAgeMale              -0.133984         -0.161470      -0.024107   \n",
       "MedianAgeFemale            -0.132119         -0.157283      -0.015706   \n",
       "AvgHouseholdSize            0.065331          0.089790      -0.115918   \n",
       "PercentMarried             -0.109242         -0.196273      -0.128680   \n",
       "PctNoHS18_24               -0.151504         -0.146968      -0.180752   \n",
       "PctHS18_24                 -0.190501         -0.158492       0.005005   \n",
       "PctSomeCol18_24             0.128736          0.117859       0.102512   \n",
       "PctBachDeg18_24             0.289231          0.267919       0.048906   \n",
       "PctHS25_Over               -0.332045         -0.315693       0.110357   \n",
       "PctBachDeg25_Over           0.341211          0.314854      -0.024455   \n",
       "PctEmployed16_Over          0.214589          0.134771       0.016767   \n",
       "PctUnemployed16_Over       -0.005370          0.080343       0.093446   \n",
       "PctPrivateCoverage          0.141329          0.060359       0.123442   \n",
       "PctPrivateCoverageAlone     0.208581          0.144992       0.132391   \n",
       "PctEmpPrivCoverage          0.217851          0.174785       0.168991   \n",
       "PctPublicCoverage          -0.186578         -0.143274       0.028814   \n",
       "PctPublicCoverageAlone     -0.098921         -0.027424       0.023177   \n",
       "PctWhite                   -0.142871         -0.198555      -0.012179   \n",
       "PctBlack                    0.045622          0.104501       0.107857   \n",
       "PctAsian                    0.439310          0.452114      -0.011973   \n",
       "PctOtherRace                0.204692          0.210216      -0.199288   \n",
       "PctMarriedHouseholds       -0.107790         -0.172902      -0.153874   \n",
       "BirthRate                  -0.031411         -0.076740      -0.124199   \n",
       "\n",
       "                         medIncome  popEst2015  povertyPercent  studyPerCap  \\\n",
       "avgAnnCount               0.295966    0.910858       -0.145403     0.075999   \n",
       "avgDeathsPerYear          0.245981    0.974260       -0.071766     0.058823   \n",
       "incidenceRate             0.019830    0.038854       -0.010297     0.073294   \n",
       "medIncome                 1.000000    0.267297       -0.784652     0.037892   \n",
       "popEst2015                0.267297    1.000000       -0.072994     0.052051   \n",
       "povertyPercent           -0.784652   -0.072994        1.000000    -0.056412   \n",
       "studyPerCap               0.037892    0.052051       -0.056412     1.000000   \n",
       "MedianAge                -0.012710   -0.026258       -0.027553    -0.024928   \n",
       "MedianAgeMale            -0.087333   -0.198905       -0.225951    -0.028683   \n",
       "MedianAgeFemale          -0.147572   -0.200520       -0.161110    -0.026551   \n",
       "AvgHouseholdSize          0.111194    0.120280        0.077601    -0.002245   \n",
       "PercentMarried            0.341388   -0.177654       -0.645714    -0.040711   \n",
       "PctNoHS18_24             -0.289839   -0.139967        0.291065    -0.090511   \n",
       "PctHS18_24               -0.192653   -0.165381        0.085429    -0.060575   \n",
       "PctSomeCol18_24           0.210340    0.113264       -0.122980     0.083320   \n",
       "PctBachDeg18_24           0.486720    0.266105       -0.372643     0.054490   \n",
       "PctHS25_Over             -0.461782   -0.343430        0.186438    -0.082314   \n",
       "PctBachDeg25_Over         0.691206    0.330477       -0.519242     0.100330   \n",
       "PctEmployed16_Over        0.687290    0.156432       -0.730213     0.081534   \n",
       "PctUnemployed16_Over     -0.435856    0.060341        0.644262    -0.029057   \n",
       "PctPrivateCoverage        0.716724    0.059730       -0.818394     0.092791   \n",
       "PctPrivateCoverageAlone   0.779147    0.156950       -0.755880     0.068951   \n",
       "PctEmpPrivCoverage        0.741325    0.179444       -0.680170     0.097108   \n",
       "PctPublicCoverage        -0.744017   -0.182054        0.637825    -0.051375   \n",
       "PctPublicCoverageAlone   -0.709009   -0.046586        0.791595    -0.060180   \n",
       "PctWhite                  0.167919   -0.206948       -0.521309     0.023590   \n",
       "PctBlack                 -0.268610    0.094921        0.514039    -0.015154   \n",
       "PctAsian                  0.426370    0.487013       -0.146852     0.050457   \n",
       "PctOtherRace              0.085173    0.241378        0.048187    -0.012287   \n",
       "PctMarriedHouseholds      0.437030   -0.140816       -0.608710    -0.053582   \n",
       "BirthRate                -0.004586   -0.058970       -0.007939     0.013642   \n",
       "\n",
       "                         MedianAge  MedianAgeMale  MedianAgeFemale  ...  \\\n",
       "avgAnnCount              -0.023985      -0.133984        -0.132119  ...   \n",
       "avgDeathsPerYear         -0.026180      -0.161470        -0.157283  ...   \n",
       "incidenceRate             0.019980      -0.024107        -0.015706  ...   \n",
       "medIncome                -0.012710      -0.087333        -0.147572  ...   \n",
       "popEst2015               -0.026258      -0.198905        -0.200520  ...   \n",
       "povertyPercent           -0.027553      -0.225951        -0.161110  ...   \n",
       "studyPerCap              -0.024928      -0.028683        -0.026551  ...   \n",
       "MedianAge                 1.000000       0.120028         0.114730  ...   \n",
       "MedianAgeMale             0.120028       1.000000         0.933590  ...   \n",
       "MedianAgeFemale           0.114730       0.933590         1.000000  ...   \n",
       "AvgHouseholdSize         -0.030171      -0.354681        -0.381636  ...   \n",
       "PercentMarried            0.043809       0.461010         0.390411  ...   \n",
       "PctNoHS18_24             -0.002629       0.093239         0.129779  ...   \n",
       "PctHS18_24                0.053682       0.248084         0.255056  ...   \n",
       "PctSomeCol18_24          -0.019274      -0.313868        -0.351422  ...   \n",
       "PctBachDeg18_24          -0.012351      -0.028581        -0.064346  ...   \n",
       "PctHS25_Over              0.023923       0.316855         0.345140  ...   \n",
       "PctBachDeg25_Over        -0.016329      -0.128331        -0.178568  ...   \n",
       "PctEmployed16_Over       -0.015197      -0.155784        -0.240815  ...   \n",
       "PctUnemployed16_Over      0.019842      -0.160817        -0.132801  ...   \n",
       "PctPrivateCoverage       -0.002673       0.092661         0.056607  ...   \n",
       "PctPrivateCoverageAlone  -0.022527      -0.160092        -0.204603  ...   \n",
       "PctEmpPrivCoverage       -0.040283      -0.200032        -0.243926  ...   \n",
       "PctPublicCoverage         0.044408       0.400369         0.455809  ...   \n",
       "PctPublicCoverageAlone   -0.000778      -0.008339         0.035296  ...   \n",
       "PctWhite                  0.030499       0.410732         0.356317  ...   \n",
       "PctBlack                 -0.015966      -0.246943        -0.161982  ...   \n",
       "PctAsian                 -0.035611      -0.238355        -0.262634  ...   \n",
       "PctOtherRace             -0.022336      -0.271889        -0.272233  ...   \n",
       "PctMarriedHouseholds      0.013293       0.231655         0.175597  ...   \n",
       "BirthRate                -0.010819      -0.119879        -0.116227  ...   \n",
       "\n",
       "                         PctPrivateCoverageAlone  PctEmpPrivCoverage  \\\n",
       "avgAnnCount                             0.208581            0.217851   \n",
       "avgDeathsPerYear                        0.144992            0.174785   \n",
       "incidenceRate                           0.132391            0.168991   \n",
       "medIncome                               0.779147            0.741325   \n",
       "popEst2015                              0.156950            0.179444   \n",
       "povertyPercent                         -0.755880           -0.680170   \n",
       "studyPerCap                             0.068951            0.097108   \n",
       "MedianAge                              -0.022527           -0.040283   \n",
       "MedianAgeMale                          -0.160092           -0.200032   \n",
       "MedianAgeFemale                        -0.204603           -0.243926   \n",
       "AvgHouseholdSize                       -0.013252            0.003994   \n",
       "PercentMarried                          0.328783            0.229145   \n",
       "PctNoHS18_24                           -0.460741           -0.431147   \n",
       "PctHS18_24                             -0.290008           -0.245800   \n",
       "PctSomeCol18_24                         0.434282            0.369226   \n",
       "PctBachDeg18_24                         0.488267            0.432715   \n",
       "PctHS25_Over                           -0.296405           -0.212799   \n",
       "PctBachDeg25_Over                       0.640881            0.526968   \n",
       "PctEmployed16_Over                      0.777345            0.697025   \n",
       "PctUnemployed16_Over                   -0.563931           -0.459120   \n",
       "PctPrivateCoverage                      0.932841            0.826129   \n",
       "PctPrivateCoverageAlone                 1.000000            0.928027   \n",
       "PctEmpPrivCoverage                      0.928027            1.000000   \n",
       "PctPublicCoverage                      -0.858239           -0.772099   \n",
       "PctPublicCoverageAlone                 -0.851806           -0.725499   \n",
       "PctWhite                                0.322965            0.281994   \n",
       "PctBlack                               -0.275659           -0.241226   \n",
       "PctAsian                                0.280456            0.274673   \n",
       "PctOtherRace                           -0.085142           -0.060240   \n",
       "PctMarriedHouseholds                    0.390690            0.320655   \n",
       "BirthRate                              -0.043249           -0.088669   \n",
       "\n",
       "                         PctPublicCoverage  PctPublicCoverageAlone  PctWhite  \\\n",
       "avgAnnCount                      -0.186578               -0.098921 -0.142871   \n",
       "avgDeathsPerYear                 -0.143274               -0.027424 -0.198555   \n",
       "incidenceRate                     0.028814                0.023177 -0.012179   \n",
       "medIncome                        -0.744017               -0.709009  0.167919   \n",
       "popEst2015                       -0.182054               -0.046586 -0.206948   \n",
       "povertyPercent                    0.637825                0.791595 -0.521309   \n",
       "studyPerCap                      -0.051375               -0.060180  0.023590   \n",
       "MedianAge                         0.044408               -0.000778  0.030499   \n",
       "MedianAgeMale                     0.400369               -0.008339  0.410732   \n",
       "MedianAgeFemale                   0.455809                0.035296  0.356317   \n",
       "AvgHouseholdSize                 -0.140265                0.066026 -0.202372   \n",
       "PercentMarried                   -0.234806               -0.456783  0.676163   \n",
       "PctNoHS18_24                      0.318319                0.329167 -0.168047   \n",
       "PctHS18_24                        0.282096                0.230206  0.036446   \n",
       "PctSomeCol18_24                  -0.371568               -0.318642  0.077844   \n",
       "PctBachDeg18_24                  -0.409227               -0.410964  0.069682   \n",
       "PctHS25_Over                      0.424754                0.293941  0.189150   \n",
       "PctBachDeg25_Over                -0.627026               -0.599208  0.054142   \n",
       "PctEmployed16_Over               -0.764325               -0.703244  0.273435   \n",
       "PctUnemployed16_Over              0.507699                0.640910 -0.512469   \n",
       "PctPrivateCoverage               -0.711636               -0.884986  0.449167   \n",
       "PctPrivateCoverageAlone          -0.858239               -0.851806  0.322965   \n",
       "PctEmpPrivCoverage               -0.772099               -0.725499  0.281994   \n",
       "PctPublicCoverage                 1.000000                0.859061 -0.133553   \n",
       "PctPublicCoverageAlone            0.859061                1.000000 -0.375380   \n",
       "PctWhite                         -0.133553               -0.375380  1.000000   \n",
       "PctBlack                          0.191503                0.330055 -0.815266   \n",
       "PctAsian                         -0.304227               -0.171333 -0.270133   \n",
       "PctOtherRace                     -0.081197                0.088091 -0.239500   \n",
       "PctMarriedHouseholds             -0.352406               -0.471138  0.598400   \n",
       "BirthRate                        -0.041023                0.000393 -0.016281   \n",
       "\n",
       "                         PctBlack  PctAsian  PctOtherRace  \\\n",
       "avgAnnCount              0.045622  0.439310      0.204692   \n",
       "avgDeathsPerYear         0.104501  0.452114      0.210216   \n",
       "incidenceRate            0.107857 -0.011973     -0.199288   \n",
       "medIncome               -0.268610  0.426370      0.085173   \n",
       "popEst2015               0.094921  0.487013      0.241378   \n",
       "povertyPercent           0.514039 -0.146852      0.048187   \n",
       "studyPerCap             -0.015154  0.050457     -0.012287   \n",
       "MedianAge               -0.015966 -0.035611     -0.022336   \n",
       "MedianAgeMale           -0.246943 -0.238355     -0.271889   \n",
       "MedianAgeFemale         -0.161982 -0.262634     -0.272233   \n",
       "AvgHouseholdSize         0.033880  0.129262      0.235052   \n",
       "PercentMarried          -0.614234 -0.164442     -0.110722   \n",
       "PctNoHS18_24             0.112953 -0.212225      0.129271   \n",
       "PctHS18_24              -0.020513 -0.200754     -0.063570   \n",
       "PctSomeCol18_24         -0.045076  0.229539     -0.059074   \n",
       "PctBachDeg18_24         -0.088239  0.342527      0.016352   \n",
       "PctHS25_Over            -0.026607 -0.440388     -0.291115   \n",
       "PctBachDeg25_Over       -0.146731  0.433174      0.036511   \n",
       "PctEmployed16_Over      -0.338321  0.233849      0.046778   \n",
       "PctUnemployed16_Over     0.463048 -0.009650      0.033345   \n",
       "PctPrivateCoverage      -0.348987  0.175665     -0.174630   \n",
       "PctPrivateCoverageAlone -0.275659  0.280456     -0.085142   \n",
       "PctEmpPrivCoverage      -0.241226  0.274673     -0.060240   \n",
       "PctPublicCoverage        0.191503 -0.304227     -0.081197   \n",
       "PctPublicCoverageAlone   0.330055 -0.171333      0.088091   \n",
       "PctWhite                -0.815266 -0.270133     -0.239500   \n",
       "PctBlack                 1.000000  0.022194     -0.014341   \n",
       "PctAsian                 0.022194  1.000000      0.214752   \n",
       "PctOtherRace            -0.014341  0.214752      1.000000   \n",
       "PctMarriedHouseholds    -0.570399 -0.104287     -0.027524   \n",
       "BirthRate               -0.072928 -0.061945      0.060009   \n",
       "\n",
       "                         PctMarriedHouseholds  BirthRate  \n",
       "avgAnnCount                         -0.107790  -0.031411  \n",
       "avgDeathsPerYear                    -0.172902  -0.076740  \n",
       "incidenceRate                       -0.153874  -0.124199  \n",
       "medIncome                            0.437030  -0.004586  \n",
       "popEst2015                          -0.140816  -0.058970  \n",
       "povertyPercent                      -0.608710  -0.007939  \n",
       "studyPerCap                         -0.053582   0.013642  \n",
       "MedianAge                            0.013293  -0.010819  \n",
       "MedianAgeMale                        0.231655  -0.119879  \n",
       "MedianAgeFemale                      0.175597  -0.116227  \n",
       "AvgHouseholdSize                     0.094345   0.100719  \n",
       "PercentMarried                       0.866697   0.130521  \n",
       "PctNoHS18_24                         0.001598   0.135538  \n",
       "PctHS18_24                           0.120971   0.054943  \n",
       "PctSomeCol18_24                     -0.090703  -0.084888  \n",
       "PctBachDeg18_24                     -0.001165  -0.128869  \n",
       "PctHS25_Over                         0.070038   0.001762  \n",
       "PctBachDeg25_Over                    0.084016  -0.085756  \n",
       "PctEmployed16_Over                   0.317036   0.075684  \n",
       "PctUnemployed16_Over                -0.473775  -0.043942  \n",
       "PctPrivateCoverage                   0.436973  -0.047879  \n",
       "PctPrivateCoverageAlone              0.390690  -0.043249  \n",
       "PctEmpPrivCoverage                   0.320655  -0.088669  \n",
       "PctPublicCoverage                   -0.352406  -0.041023  \n",
       "PctPublicCoverageAlone              -0.471138   0.000393  \n",
       "PctWhite                             0.598400  -0.016281  \n",
       "PctBlack                            -0.570399  -0.072928  \n",
       "PctAsian                            -0.104287  -0.061945  \n",
       "PctOtherRace                        -0.027524   0.060009  \n",
       "PctMarriedHouseholds                 1.000000   0.100082  \n",
       "BirthRate                            0.100082   1.000000  \n",
       "\n",
       "[31 rows x 31 columns]"
      ]
     },
     "execution_count": 15,
     "metadata": {},
     "output_type": "execute_result"
    }
   ],
   "source": [
    "correlation_matrix = tddf.corr()\n",
    "correlation_matrix"
   ]
  },
  {
   "cell_type": "markdown",
   "metadata": {},
   "source": [
    "It is clear to see that medIncome and PctBachDeg25_Over (0.691206) have strong correlation together as well as PctPublicCoverageAlone and povertyPercent (0.791595)"
   ]
  },
  {
   "cell_type": "markdown",
   "metadata": {
    "id": "0wSA10GzM_Xu"
   },
   "source": [
    "# **Part 2**\n",
    "\n",
    "ML pipeline using scikit-learn to pre-process the training data"
   ]
  },
  {
   "cell_type": "code",
   "execution_count": 169,
   "metadata": {},
   "outputs": [
    {
     "data": {
      "text/html": [
       "<div>\n",
       "<style scoped>\n",
       "    .dataframe tbody tr th:only-of-type {\n",
       "        vertical-align: middle;\n",
       "    }\n",
       "\n",
       "    .dataframe tbody tr th {\n",
       "        vertical-align: top;\n",
       "    }\n",
       "\n",
       "    .dataframe thead th {\n",
       "        text-align: right;\n",
       "    }\n",
       "</style>\n",
       "<table border=\"1\" class=\"dataframe\">\n",
       "  <thead>\n",
       "    <tr style=\"text-align: right;\">\n",
       "      <th></th>\n",
       "      <th>avgAnnCount</th>\n",
       "      <th>avgDeathsPerYear</th>\n",
       "      <th>incidenceRate</th>\n",
       "      <th>medIncome</th>\n",
       "      <th>popEst2015</th>\n",
       "      <th>povertyPercent</th>\n",
       "      <th>studyPerCap</th>\n",
       "      <th>MedianAge</th>\n",
       "      <th>MedianAgeMale</th>\n",
       "      <th>MedianAgeFemale</th>\n",
       "      <th>AvgHouseholdSize</th>\n",
       "      <th>PercentMarried</th>\n",
       "      <th>PctNoHS18_24</th>\n",
       "      <th>PctHS18_24</th>\n",
       "      <th>PctSomeCol18_24</th>\n",
       "      <th>PctBachDeg18_24</th>\n",
       "      <th>PctHS25_Over</th>\n",
       "      <th>PctBachDeg25_Over</th>\n",
       "      <th>PctEmployed16_Over</th>\n",
       "      <th>PctUnemployed16_Over</th>\n",
       "      <th>PctPrivateCoverage</th>\n",
       "      <th>PctPrivateCoverageAlone</th>\n",
       "      <th>PctEmpPrivCoverage</th>\n",
       "      <th>PctPublicCoverage</th>\n",
       "      <th>PctPublicCoverageAlone</th>\n",
       "      <th>PctWhite</th>\n",
       "      <th>PctBlack</th>\n",
       "      <th>PctAsian</th>\n",
       "      <th>PctOtherRace</th>\n",
       "      <th>PctMarriedHouseholds</th>\n",
       "      <th>BirthRate</th>\n",
       "    </tr>\n",
       "  </thead>\n",
       "  <tbody>\n",
       "    <tr>\n",
       "      <th>0</th>\n",
       "      <td>59.0</td>\n",
       "      <td>30</td>\n",
       "      <td>404.3</td>\n",
       "      <td>33975</td>\n",
       "      <td>8251</td>\n",
       "      <td>20.5</td>\n",
       "      <td>0.0</td>\n",
       "      <td>51.3</td>\n",
       "      <td>50.8</td>\n",
       "      <td>51.9</td>\n",
       "      <td>2.27</td>\n",
       "      <td>55.7</td>\n",
       "      <td>37.1</td>\n",
       "      <td>27.9</td>\n",
       "      <td>NaN</td>\n",
       "      <td>2.6</td>\n",
       "      <td>40.6</td>\n",
       "      <td>6.7</td>\n",
       "      <td>39.7</td>\n",
       "      <td>13.2</td>\n",
       "      <td>57.4</td>\n",
       "      <td>NaN</td>\n",
       "      <td>26.0</td>\n",
       "      <td>49.7</td>\n",
       "      <td>20.6</td>\n",
       "      <td>96.684036</td>\n",
       "      <td>0.438181</td>\n",
       "      <td>0.082899</td>\n",
       "      <td>0.272383</td>\n",
       "      <td>51.926207</td>\n",
       "      <td>5.041436</td>\n",
       "    </tr>\n",
       "    <tr>\n",
       "      <th>1</th>\n",
       "      <td>114.0</td>\n",
       "      <td>41</td>\n",
       "      <td>403.8</td>\n",
       "      <td>47363</td>\n",
       "      <td>22702</td>\n",
       "      <td>13.8</td>\n",
       "      <td>0.0</td>\n",
       "      <td>40.8</td>\n",
       "      <td>39.8</td>\n",
       "      <td>42.7</td>\n",
       "      <td>2.33</td>\n",
       "      <td>51.1</td>\n",
       "      <td>19.9</td>\n",
       "      <td>33.7</td>\n",
       "      <td>NaN</td>\n",
       "      <td>5.7</td>\n",
       "      <td>35.3</td>\n",
       "      <td>19.3</td>\n",
       "      <td>61.7</td>\n",
       "      <td>3.6</td>\n",
       "      <td>75.2</td>\n",
       "      <td>56.5</td>\n",
       "      <td>46.8</td>\n",
       "      <td>31.6</td>\n",
       "      <td>13.0</td>\n",
       "      <td>92.295459</td>\n",
       "      <td>2.102845</td>\n",
       "      <td>0.609648</td>\n",
       "      <td>0.879131</td>\n",
       "      <td>50.949545</td>\n",
       "      <td>6.329661</td>\n",
       "    </tr>\n",
       "    <tr>\n",
       "      <th>2</th>\n",
       "      <td>33.0</td>\n",
       "      <td>11</td>\n",
       "      <td>352.0</td>\n",
       "      <td>77222</td>\n",
       "      <td>9899</td>\n",
       "      <td>6.8</td>\n",
       "      <td>0.0</td>\n",
       "      <td>38.1</td>\n",
       "      <td>36.9</td>\n",
       "      <td>39.8</td>\n",
       "      <td>2.74</td>\n",
       "      <td>62.1</td>\n",
       "      <td>30.2</td>\n",
       "      <td>21.3</td>\n",
       "      <td>NaN</td>\n",
       "      <td>6.6</td>\n",
       "      <td>35.2</td>\n",
       "      <td>17.0</td>\n",
       "      <td>69.7</td>\n",
       "      <td>5.4</td>\n",
       "      <td>76.1</td>\n",
       "      <td>65.4</td>\n",
       "      <td>54.3</td>\n",
       "      <td>18.2</td>\n",
       "      <td>8.6</td>\n",
       "      <td>95.690422</td>\n",
       "      <td>0.000000</td>\n",
       "      <td>0.523871</td>\n",
       "      <td>0.118612</td>\n",
       "      <td>64.532156</td>\n",
       "      <td>5.148130</td>\n",
       "    </tr>\n",
       "    <tr>\n",
       "      <th>3</th>\n",
       "      <td>254.0</td>\n",
       "      <td>100</td>\n",
       "      <td>429.6</td>\n",
       "      <td>80650</td>\n",
       "      <td>48904</td>\n",
       "      <td>7.5</td>\n",
       "      <td>0.0</td>\n",
       "      <td>43.5</td>\n",
       "      <td>42.7</td>\n",
       "      <td>44.1</td>\n",
       "      <td>2.75</td>\n",
       "      <td>57.4</td>\n",
       "      <td>13.6</td>\n",
       "      <td>34.7</td>\n",
       "      <td>40.8</td>\n",
       "      <td>10.9</td>\n",
       "      <td>29.9</td>\n",
       "      <td>21.6</td>\n",
       "      <td>65.0</td>\n",
       "      <td>5.3</td>\n",
       "      <td>80.3</td>\n",
       "      <td>64.2</td>\n",
       "      <td>55.6</td>\n",
       "      <td>28.8</td>\n",
       "      <td>13.5</td>\n",
       "      <td>89.606996</td>\n",
       "      <td>7.407407</td>\n",
       "      <td>0.870370</td>\n",
       "      <td>0.450617</td>\n",
       "      <td>62.344481</td>\n",
       "      <td>5.627462</td>\n",
       "    </tr>\n",
       "    <tr>\n",
       "      <th>4</th>\n",
       "      <td>75.0</td>\n",
       "      <td>32</td>\n",
       "      <td>407.5</td>\n",
       "      <td>42839</td>\n",
       "      <td>22255</td>\n",
       "      <td>14.6</td>\n",
       "      <td>0.0</td>\n",
       "      <td>31.1</td>\n",
       "      <td>30.2</td>\n",
       "      <td>31.6</td>\n",
       "      <td>3.21</td>\n",
       "      <td>59.0</td>\n",
       "      <td>31.0</td>\n",
       "      <td>29.7</td>\n",
       "      <td>NaN</td>\n",
       "      <td>1.4</td>\n",
       "      <td>26.1</td>\n",
       "      <td>9.5</td>\n",
       "      <td>67.4</td>\n",
       "      <td>4.1</td>\n",
       "      <td>59.4</td>\n",
       "      <td>50.7</td>\n",
       "      <td>46.5</td>\n",
       "      <td>26.8</td>\n",
       "      <td>18.1</td>\n",
       "      <td>79.587990</td>\n",
       "      <td>2.948701</td>\n",
       "      <td>8.482564</td>\n",
       "      <td>5.637090</td>\n",
       "      <td>63.005948</td>\n",
       "      <td>10.436469</td>\n",
       "    </tr>\n",
       "  </tbody>\n",
       "</table>\n",
       "</div>"
      ],
      "text/plain": [
       "   avgAnnCount  avgDeathsPerYear  incidenceRate  medIncome  popEst2015  \\\n",
       "0         59.0                30          404.3      33975        8251   \n",
       "1        114.0                41          403.8      47363       22702   \n",
       "2         33.0                11          352.0      77222        9899   \n",
       "3        254.0               100          429.6      80650       48904   \n",
       "4         75.0                32          407.5      42839       22255   \n",
       "\n",
       "   povertyPercent  studyPerCap  MedianAge  MedianAgeMale  MedianAgeFemale  \\\n",
       "0            20.5          0.0       51.3           50.8             51.9   \n",
       "1            13.8          0.0       40.8           39.8             42.7   \n",
       "2             6.8          0.0       38.1           36.9             39.8   \n",
       "3             7.5          0.0       43.5           42.7             44.1   \n",
       "4            14.6          0.0       31.1           30.2             31.6   \n",
       "\n",
       "   AvgHouseholdSize  PercentMarried  PctNoHS18_24  PctHS18_24  \\\n",
       "0              2.27            55.7          37.1        27.9   \n",
       "1              2.33            51.1          19.9        33.7   \n",
       "2              2.74            62.1          30.2        21.3   \n",
       "3              2.75            57.4          13.6        34.7   \n",
       "4              3.21            59.0          31.0        29.7   \n",
       "\n",
       "   PctSomeCol18_24  PctBachDeg18_24  PctHS25_Over  PctBachDeg25_Over  \\\n",
       "0              NaN              2.6          40.6                6.7   \n",
       "1              NaN              5.7          35.3               19.3   \n",
       "2              NaN              6.6          35.2               17.0   \n",
       "3             40.8             10.9          29.9               21.6   \n",
       "4              NaN              1.4          26.1                9.5   \n",
       "\n",
       "   PctEmployed16_Over  PctUnemployed16_Over  PctPrivateCoverage  \\\n",
       "0                39.7                  13.2                57.4   \n",
       "1                61.7                   3.6                75.2   \n",
       "2                69.7                   5.4                76.1   \n",
       "3                65.0                   5.3                80.3   \n",
       "4                67.4                   4.1                59.4   \n",
       "\n",
       "   PctPrivateCoverageAlone  PctEmpPrivCoverage  PctPublicCoverage  \\\n",
       "0                      NaN                26.0               49.7   \n",
       "1                     56.5                46.8               31.6   \n",
       "2                     65.4                54.3               18.2   \n",
       "3                     64.2                55.6               28.8   \n",
       "4                     50.7                46.5               26.8   \n",
       "\n",
       "   PctPublicCoverageAlone   PctWhite  PctBlack  PctAsian  PctOtherRace  \\\n",
       "0                    20.6  96.684036  0.438181  0.082899      0.272383   \n",
       "1                    13.0  92.295459  2.102845  0.609648      0.879131   \n",
       "2                     8.6  95.690422  0.000000  0.523871      0.118612   \n",
       "3                    13.5  89.606996  7.407407  0.870370      0.450617   \n",
       "4                    18.1  79.587990  2.948701  8.482564      5.637090   \n",
       "\n",
       "   PctMarriedHouseholds  BirthRate  \n",
       "0             51.926207   5.041436  \n",
       "1             50.949545   6.329661  \n",
       "2             64.532156   5.148130  \n",
       "3             62.344481   5.627462  \n",
       "4             63.005948  10.436469  "
      ]
     },
     "execution_count": 169,
     "metadata": {},
     "output_type": "execute_result"
    }
   ],
   "source": [
    "pd.options.display.max_columns = None\n",
    "tddf.head()"
   ]
  },
  {
   "cell_type": "code",
   "execution_count": 16,
   "metadata": {},
   "outputs": [],
   "source": [
    "# Create a list of column names in the training data\n",
    "num_attributes = list(tddf)\n",
    "\n",
    "# Create a pipeline that includes an imputer to fill in any missing values with the median, \n",
    "# and a standard scaler to standardize the features by removing the mean and scaling to unit variance\n",
    "pipeline = Pipeline([\n",
    "    ('imputer', SimpleImputer(strategy=\"median\")), \n",
    "    ('std_scaler', StandardScaler())\n",
    "])\n",
    "\n",
    "# Use the pipeline to process the training data, applying the imputer and standard scaler to the data\n",
    "# This creates a new numpy array with the processed data\n",
    "tddf_procsd = pipeline.fit_transform(tddf)"
   ]
  },
  {
   "cell_type": "code",
   "execution_count": 17,
   "metadata": {},
   "outputs": [
    {
     "data": {
      "text/plain": [
       "array([[-0.41860034, -0.33684338, -0.79291002, ..., -0.48701398,\n",
       "         0.09703963, -0.29894976],\n",
       "       [-0.37591237, -0.31273884, -0.80200754, ..., -0.31647103,\n",
       "        -0.05251527,  0.34857181],\n",
       "       [-0.43878011, -0.3784785 , -1.74451094, ..., -0.53023536,\n",
       "         2.02737039, -0.24532054],\n",
       "       ...,\n",
       "       [-0.02121415,  0.05759455,  0.16960794, ..., -0.38058912,\n",
       "        -0.54897845, -0.35129939],\n",
       "       [ 1.05892163, -0.38724379,  0.1031855 , ..., -0.52246637,\n",
       "         1.70653835,  1.66666405],\n",
       "       [ 0.11073048,  0.2723441 ,  0.55534292, ..., -0.44939102,\n",
       "        -0.6264086 , -0.4084013 ]])"
      ]
     },
     "execution_count": 17,
     "metadata": {},
     "output_type": "execute_result"
    }
   ],
   "source": [
    "tddf_procsd"
   ]
  },
  {
   "cell_type": "code",
   "execution_count": 18,
   "metadata": {},
   "outputs": [
    {
     "data": {
      "text/plain": [
       "(2438, 31)"
      ]
     },
     "execution_count": 18,
     "metadata": {},
     "output_type": "execute_result"
    }
   ],
   "source": [
    "tddf_procsd.shape"
   ]
  },
  {
   "cell_type": "markdown",
   "metadata": {
    "id": "PiM5kym6NRww"
   },
   "source": [
    "Fit linear regression models to the pre-processed data using: Ordinary least squares (OLS), Lasso and Ridge models."
   ]
  },
  {
   "cell_type": "code",
   "execution_count": 19,
   "metadata": {},
   "outputs": [],
   "source": [
    "# Import the train_test_split function from sklearn.model_selection\n",
    "from sklearn.model_selection import train_test_split\n",
    "\n",
    "# Split the processed training data and training targets into training and test sets using train_test_split\n",
    "# The test set will be 20% of the data and the random_state is set to 42 to ensure reproducibility\n",
    "tddf_train, tddf_test, ttdf_train, ttdf_test = train_test_split(tddf_procsd, ttdf, test_size=0.2, random_state=42)"
   ]
  },
  {
   "cell_type": "code",
   "execution_count": 20,
   "metadata": {},
   "outputs": [
    {
     "name": "stdout",
     "output_type": "stream",
     "text": [
      "19.00555024129081\n"
     ]
    }
   ],
   "source": [
    "# Import the necessary libraries\n",
    "from sklearn.linear_model import LinearRegression\n",
    "from sklearn.metrics import mean_squared_error\n",
    "\n",
    "# Create an instance of the LinearRegression model\n",
    "lin_reg = LinearRegression()\n",
    "\n",
    "# Train the model on the processed training data and training targets\n",
    "lin_reg.fit(tddf_train, ttdf_train)\n",
    "\n",
    "# Use the trained model to make predictions on the processed training data\n",
    "lin_predictions = lin_reg.predict(tddf_train)\n",
    "\n",
    "# Calculate the mean squared error (MSE) between the predicted and actual training targets\n",
    "lin_mse = mean_squared_error(ttdf_train, lin_predictions)\n",
    "\n",
    "# Calculate the root mean squared error (RMSE) by taking the square root of the MSE\n",
    "lin_rmse = np.sqrt(lin_mse)\n",
    "\n",
    "# Print the RMSE\n",
    "print(lin_rmse)\n"
   ]
  },
  {
   "cell_type": "code",
   "execution_count": 21,
   "metadata": {},
   "outputs": [
    {
     "data": {
      "text/plain": [
       "array([[167.80855047],\n",
       "       [193.86024301],\n",
       "       [178.49610591],\n",
       "       ...,\n",
       "       [179.8823263 ],\n",
       "       [134.89112703],\n",
       "       [127.07872849]])"
      ]
     },
     "execution_count": 21,
     "metadata": {},
     "output_type": "execute_result"
    }
   ],
   "source": [
    "lin_predictions"
   ]
  },
  {
   "cell_type": "code",
   "execution_count": 22,
   "metadata": {},
   "outputs": [
    {
     "data": {
      "text/html": [
       "<div>\n",
       "<style scoped>\n",
       "    .dataframe tbody tr th:only-of-type {\n",
       "        vertical-align: middle;\n",
       "    }\n",
       "\n",
       "    .dataframe tbody tr th {\n",
       "        vertical-align: top;\n",
       "    }\n",
       "\n",
       "    .dataframe thead th {\n",
       "        text-align: right;\n",
       "    }\n",
       "</style>\n",
       "<table border=\"1\" class=\"dataframe\">\n",
       "  <thead>\n",
       "    <tr style=\"text-align: right;\">\n",
       "      <th></th>\n",
       "      <th>TARGET_deathRate</th>\n",
       "    </tr>\n",
       "  </thead>\n",
       "  <tbody>\n",
       "    <tr>\n",
       "      <th>2032</th>\n",
       "      <td>164.0</td>\n",
       "    </tr>\n",
       "    <tr>\n",
       "      <th>2255</th>\n",
       "      <td>182.2</td>\n",
       "    </tr>\n",
       "    <tr>\n",
       "      <th>651</th>\n",
       "      <td>165.4</td>\n",
       "    </tr>\n",
       "    <tr>\n",
       "      <th>406</th>\n",
       "      <td>202.2</td>\n",
       "    </tr>\n",
       "    <tr>\n",
       "      <th>177</th>\n",
       "      <td>206.6</td>\n",
       "    </tr>\n",
       "    <tr>\n",
       "      <th>...</th>\n",
       "      <td>...</td>\n",
       "    </tr>\n",
       "    <tr>\n",
       "      <th>1638</th>\n",
       "      <td>135.0</td>\n",
       "    </tr>\n",
       "    <tr>\n",
       "      <th>1095</th>\n",
       "      <td>156.8</td>\n",
       "    </tr>\n",
       "    <tr>\n",
       "      <th>1130</th>\n",
       "      <td>200.2</td>\n",
       "    </tr>\n",
       "    <tr>\n",
       "      <th>1294</th>\n",
       "      <td>146.8</td>\n",
       "    </tr>\n",
       "    <tr>\n",
       "      <th>860</th>\n",
       "      <td>115.0</td>\n",
       "    </tr>\n",
       "  </tbody>\n",
       "</table>\n",
       "<p>1950 rows × 1 columns</p>\n",
       "</div>"
      ],
      "text/plain": [
       "      TARGET_deathRate\n",
       "2032             164.0\n",
       "2255             182.2\n",
       "651              165.4\n",
       "406              202.2\n",
       "177              206.6\n",
       "...                ...\n",
       "1638             135.0\n",
       "1095             156.8\n",
       "1130             200.2\n",
       "1294             146.8\n",
       "860              115.0\n",
       "\n",
       "[1950 rows x 1 columns]"
      ]
     },
     "execution_count": 22,
     "metadata": {},
     "output_type": "execute_result"
    }
   ],
   "source": [
    "ttdf_train"
   ]
  },
  {
   "cell_type": "code",
   "execution_count": 23,
   "metadata": {},
   "outputs": [
    {
     "data": {
      "text/plain": [
       "(488, 1)"
      ]
     },
     "execution_count": 23,
     "metadata": {},
     "output_type": "execute_result"
    }
   ],
   "source": [
    "ttdf_test.shape"
   ]
  },
  {
   "cell_type": "code",
   "execution_count": 24,
   "metadata": {},
   "outputs": [
    {
     "name": "stderr",
     "output_type": "stream",
     "text": [
      "/opt/anaconda3/lib/python3.7/site-packages/sklearn/linear_model/_coordinate_descent.py:1571: DataConversionWarning: A column-vector y was passed when a 1d array was expected. Please change the shape of y to (n_samples, ), for example using ravel().\n",
      "  y = column_or_1d(y, warn=True)\n"
     ]
    },
    {
     "name": "stdout",
     "output_type": "stream",
     "text": [
      "Best alpha for Lasso:  0.06751984523072495\n",
      "Best alpha for Ridge:  37.316968377327555\n",
      "RMSE Lasso:  18.74315292871369\n",
      "RMSE Ridge:  18.738172656716717\n"
     ]
    }
   ],
   "source": [
    "# Import the necessary libraries\n",
    "from sklearn.linear_model import LassoCV, RidgeCV\n",
    "from sklearn.metrics import mean_squared_error\n",
    "\n",
    "# Create an array of alphas to test for both Lasso and Ridge regularization\n",
    "alphas = np.logspace(-10, 10, 300)\n",
    "\n",
    "# Create an instance of LassoCV and RidgeCV models, using 5-fold cross-validation and the alphas defined above\n",
    "lasso_cv = LassoCV(alphas=alphas, cv=5)\n",
    "ridge_cv = RidgeCV(alphas=alphas, cv=5)\n",
    "\n",
    "# Train the Lasso and Ridge models on the processed training data and training targets\n",
    "lasso_cv.fit(tddf_train, ttdf_train)\n",
    "ridge_cv.fit(tddf_train, ttdf_train)\n",
    "\n",
    "# Print the best alpha values found for Lasso and Ridge\n",
    "print(\"Best alpha for Lasso: \", lasso_cv.alpha_)\n",
    "print(\"Best alpha for Ridge: \", ridge_cv.alpha_)\n",
    "\n",
    "# Use the trained Lasso and Ridge models to make predictions on the processed test data\n",
    "ttdf_pred_lasso = lasso_cv.predict(tddf_test)\n",
    "ttdf_pred_ridge = ridge_cv.predict(tddf_test)\n",
    "\n",
    "# Calculate the RMSE between the predicted and actual test targets for both Lasso and Ridge\n",
    "rmse_lasso = np.sqrt(mean_squared_error(ttdf_test, ttdf_pred_lasso))\n",
    "rmse_ridge = np.sqrt(mean_squared_error(ttdf_test, ttdf_pred_ridge))\n",
    "\n",
    "# Print the RMSE values for Lasso and Ridge\n",
    "print(\"RMSE Lasso: \", rmse_lasso)\n",
    "print(\"RMSE Ridge: \", rmse_ridge)\n"
   ]
  },
  {
   "cell_type": "markdown",
   "metadata": {},
   "source": [
    "Lasso and Ridge, were used to fit a linear regression model. To select the best regularization weights for these methods, we used cross-validation (cv=5) and a logarithmic space of 300 different alpha values (alphas=np.logspace(-10, 10, 300)).\n",
    "\n",
    "For both Lasso and Ridge regression, the alpha value that produced the best score on the validation data was chosen as the final alpha value. The LassoCV and RidgeCV functions perform cross-validation to select the optimal value of alpha from a range of values. The cv parameter determines the number of folds used in cross-validation."
   ]
  },
  {
   "cell_type": "markdown",
   "metadata": {},
   "source": [
    "According to the RMSE from OLS, Lasso, and Ridge methods I can conclude that the best performing model is the Ridge model."
   ]
  },
  {
   "cell_type": "markdown",
   "metadata": {
    "id": "NYfBOPrQYVlZ"
   },
   "source": [
    "\n",
    "\n",
    "\n",
    "\n"
   ]
  },
  {
   "cell_type": "markdown",
   "metadata": {
    "id": "Cdx4FmjqPpVJ"
   },
   "source": [
    "# **Part 4**\n",
    "\n",
    "Lasso regression and the best regularisation weight identified from Part 3 will be used to identify the five most important/relevant features for the provided data set and regression task. "
   ]
  },
  {
   "cell_type": "code",
   "execution_count": 32,
   "metadata": {},
   "outputs": [],
   "source": [
    "from sklearn.linear_model import Lasso\n",
    "# Create an empty dictionary to store feature weights obtained using Lasso regression\n",
    "feat_lasso = {}\n",
    "\n",
    "# Iterate over the number of features in the training data\n",
    "for num_feat in range(tddf_train.shape[1]):\n",
    "    # Create a Lasso regression model with a regularization weight of 0.07\n",
    "    lasso = Lasso(alpha=0.07)\n",
    "    \n",
    "    # Select the current feature for both the training and testing data\n",
    "    feat_train = tddf_train[:, num_feat].reshape(-1, 1)\n",
    "    feat_test = tddf_test[:, num_feat].reshape(-1, 1)\n",
    "    \n",
    "    # Fit the Lasso regression model to the training data\n",
    "    lasso.fit(feat_train, ttdf_train)\n",
    "    \n",
    "    # Extract the coefficient value of the feature from the Lasso regression model\n",
    "    coeff = lasso.coef_\n",
    "\n",
    "    # Store the absolute value of the coefficient in the feat_lasso dictionary\n",
    "    feat_lasso[tddf.columns[num_feat]] = np.abs(coeff[0])\n"
   ]
  },
  {
   "cell_type": "code",
   "execution_count": 33,
   "metadata": {
    "id": "gCMlCQJEbwK_"
   },
   "outputs": [
    {
     "data": {
      "text/plain": [
       "{'PctBachDeg25_Over': 13.352246119174872,\n",
       " 'PctPublicCoverageAlone': 12.39763490975722,\n",
       " 'incidenceRate': 11.839420487291116,\n",
       " 'medIncome': 11.6328282470136,\n",
       " 'povertyPercent': 11.2434512222791,\n",
       " 'PctPublicCoverage': 11.102262255896163,\n",
       " 'PctEmployed16_Over': 10.820057484718607,\n",
       " 'PctHS25_Over': 10.77886999747711,\n",
       " 'PctPrivateCoverage': 10.72866278378764,\n",
       " 'PctUnemployed16_Over': 9.795011904919367,\n",
       " 'PctPrivateCoverageAlone': 8.742177360231828,\n",
       " 'PctMarriedHouseholds': 7.890127791218375,\n",
       " 'PctBachDeg18_24': 7.711535294681188,\n",
       " 'PctEmpPrivCoverage': 7.331389308834204,\n",
       " 'PercentMarried': 7.224598661109088,\n",
       " 'PctHS18_24': 6.514953945223945,\n",
       " 'PctBlack': 6.059178348063878,\n",
       " 'PctOtherRace': 5.175734354497801,\n",
       " 'PctWhite': 4.740715490304931,\n",
       " 'PctAsian': 4.447863246233651,\n",
       " 'avgAnnCount': 3.522521325718537,\n",
       " 'popEst2015': 2.9562709978347907,\n",
       " 'BirthRate': 2.480913717835079,\n",
       " 'PctNoHS18_24': 2.0950765205314594,\n",
       " 'PctSomeCol18_24': 2.0588969557306394,\n",
       " 'avgDeathsPerYear': 1.9631944178881575,\n",
       " 'AvgHouseholdSize': 1.0139550126328756,\n",
       " 'MedianAgeMale': 0.9286772312403409,\n",
       " 'studyPerCap': 0.592997619964251,\n",
       " 'MedianAge': 0.09576600300494562,\n",
       " 'MedianAgeFemale': 0.0}"
      ]
     },
     "execution_count": 33,
     "metadata": {},
     "output_type": "execute_result"
    }
   ],
   "source": [
    "sorted_feat_lasso = dict(sorted(feat_lasso.items(), key=lambda item: item[1], reverse=True))\n",
    "sorted_feat_lasso"
   ]
  },
  {
   "cell_type": "markdown",
   "metadata": {},
   "source": [
    "Therefore the five most important/relevant features for the provided data set and regression task:"
   ]
  },
  {
   "cell_type": "markdown",
   "metadata": {},
   "source": [
    " 1. 'PctBachDeg25_Over': 13.352246119174872,\n",
    " 2. 'PctPublicCoverageAlone': 12.39763490975722,\n",
    " 3. 'incidenceRate': 11.839420487291116,\n",
    " 4. 'medIncome': 11.6328282470136,\n",
    " 5. 'povertyPercent': 11.2434512222791,"
   ]
  },
  {
   "cell_type": "markdown",
   "metadata": {
    "id": "HQvZqdqGQ_pH"
   },
   "source": [
    "# **Part 5**\n",
    "I will fit the Random Forest regression model to the training data and quantitatively evaluate and compare the Random Forest regression model with the best linear regression model identified from Part 3. "
   ]
  },
  {
   "cell_type": "code",
   "execution_count": 34,
   "metadata": {
    "colab": {
     "base_uri": "https://localhost:8080/"
    },
    "id": "FPYzq8KhwJpH",
    "outputId": "e1198477-302e-44ef-c928-96e50dd57a62"
   },
   "outputs": [
    {
     "name": "stderr",
     "output_type": "stream",
     "text": [
      "/opt/anaconda3/lib/python3.7/site-packages/ipykernel_launcher.py:8: DataConversionWarning: A column-vector y was passed when a 1d array was expected. Please change the shape of y to (n_samples,), for example using ravel().\n",
      "  \n"
     ]
    },
    {
     "name": "stdout",
     "output_type": "stream",
     "text": [
      "19.72201746961302\n"
     ]
    }
   ],
   "source": [
    "# Import the RandomForestRegressor class from the sklearn.ensemble module\n",
    "from sklearn.ensemble import RandomForestRegressor\n",
    "\n",
    "# Create an instance of the RandomForestRegressor class\n",
    "forest_reg = RandomForestRegressor()\n",
    "\n",
    "# Train the RandomForestRegressor model using the training data\n",
    "forest_reg.fit(tddf_train, ttdf_train)\n",
    "\n",
    "# Use the trained RandomForestRegressor to make predictions on the test data\n",
    "RForest_predictions = forest_reg.predict(tddf_test)\n",
    "\n",
    "# Calculate the mean squared error (MSE) of the predictions compared to the true values of the test data\n",
    "forest_mse = mean_squared_error(ttdf_test, RForest_predictions)\n",
    "\n",
    "# Calculate the root mean squared error (RMSE) of the predictions compared to the true values of the test data\n",
    "forest_rmse = np.sqrt(forest_mse)\n",
    "\n",
    "# Output the RMSE of the predictions from the RandomForestRegressor model\n",
    "print(forest_rmse)\n"
   ]
  },
  {
   "cell_type": "markdown",
   "metadata": {
    "colab": {
     "base_uri": "https://localhost:8080/"
    },
    "id": "vmf9FNhlyzQK",
    "outputId": "0d8bb0e3-3835-4f4a-c581-85e63c6a40b2"
   },
   "source": [
    "The best linear regression model was the Ridge model: 18.738172656716717. This is a better score than the RandomForestRegression: 19.72201746961302 ."
   ]
  },
  {
   "cell_type": "code",
   "execution_count": 35,
   "metadata": {
    "colab": {
     "base_uri": "https://localhost:8080/"
    },
    "id": "zZ29lziMy6X1",
    "outputId": "b65b32f4-6f35-4110-8b30-83d0b3696d97"
   },
   "outputs": [],
   "source": [
    "# Get feature importance using Random Forest model\n",
    "feat_importance = forest_reg.feature_importances_\n",
    "\n",
    "# Create an empty dictionary to store feature importance\n",
    "feat_Rforest = {}\n",
    "\n",
    "# Iterate over the feature importance values and store them in the dictionary with their corresponding column names\n",
    "for num_feat in range(len(feat_importance)):\n",
    "    # Extract column name\n",
    "    column_name = tddf.columns[num_feat]\n",
    "    # Store feature importance value in the dictionary using column name as key\n",
    "    feat_Rforest[column_name] = feat_importance[num_feat]\n"
   ]
  },
  {
   "cell_type": "code",
   "execution_count": 36,
   "metadata": {
    "colab": {
     "base_uri": "https://localhost:8080/"
    },
    "id": "ypL4qlRwzCxp",
    "outputId": "81055e92-09ee-41d1-94d8-6883ae6e6025"
   },
   "outputs": [
    {
     "data": {
      "text/plain": [
       "{'PctBachDeg25_Over': 0.2200759094687332,\n",
       " 'incidenceRate': 0.198762419876557,\n",
       " 'medIncome': 0.045240775555034765,\n",
       " 'PctHS25_Over': 0.044896637273315734,\n",
       " 'avgDeathsPerYear': 0.03771877039977941,\n",
       " 'PctEmployed16_Over': 0.028284897776011793,\n",
       " 'PctPublicCoverageAlone': 0.026419886581073367,\n",
       " 'PctPrivateCoverage': 0.025124719127883288,\n",
       " 'PctHS18_24': 0.024329581630369402,\n",
       " 'PctOtherRace': 0.023883781874080367,\n",
       " 'PctMarriedHouseholds': 0.02321134709773428,\n",
       " 'povertyPercent': 0.023012433020403924,\n",
       " 'PctBlack': 0.021475301789824715,\n",
       " 'PctUnemployed16_Over': 0.021317581752567875,\n",
       " 'popEst2015': 0.021028776168120294,\n",
       " 'AvgHouseholdSize': 0.02027659448470894,\n",
       " 'PctAsian': 0.018922558146213124,\n",
       " 'avgAnnCount': 0.017617962817905633,\n",
       " 'BirthRate': 0.017310939640371954,\n",
       " 'PercentMarried': 0.016642928045735035,\n",
       " 'PctWhite': 0.01587852780017379,\n",
       " 'PctNoHS18_24': 0.015873601075687145,\n",
       " 'PctBachDeg18_24': 0.015437147801411099,\n",
       " 'MedianAgeFemale': 0.01327317540270324,\n",
       " 'PctEmpPrivCoverage': 0.012910118136453465,\n",
       " 'PctPublicCoverage': 0.012576858511661128,\n",
       " 'PctPrivateCoverageAlone': 0.010041453209931698,\n",
       " 'MedianAgeMale': 0.010013670527989316,\n",
       " 'MedianAge': 0.00935435400475722,\n",
       " 'PctSomeCol18_24': 0.005095163322585805,\n",
       " 'studyPerCap': 0.003992127680221736}"
      ]
     },
     "execution_count": 36,
     "metadata": {},
     "output_type": "execute_result"
    }
   ],
   "source": [
    "sorted_feat_Rforest = dict(sorted(feat_Rforest.items(), key=lambda item: item[1], reverse=True))\n",
    "sorted_feat_Rforest"
   ]
  },
  {
   "cell_type": "markdown",
   "metadata": {
    "id": "tQrJXOHk1YMW"
   },
   "source": [
    "\n",
    "\n",
    "\n",
    "\n",
    "\n"
   ]
  },
  {
   "cell_type": "markdown",
   "metadata": {
    "id": "jg-Tksx5QXiL"
   },
   "source": [
    "# **Part 6**\n",
    "\n",
    "I will use the test example data ('Test_data_example.csv' and 'Test_data_example_targets.csv') to write an inference script to evaluate the best regression model identified from preceding parts. I will need to re-train the chosen regression model using all of the provided training data and test the predictions on the provided example test data. "
   ]
  },
  {
   "cell_type": "code",
   "execution_count": 37,
   "metadata": {
    "id": "T2tiGDcYmygX"
   },
   "outputs": [
    {
     "name": "stdout",
     "output_type": "stream",
     "text": [
      "Best alpha for Ridge:  37.316968377327555\n",
      "RMSE Ridge:  22.419595629268123\n"
     ]
    }
   ],
   "source": [
    "## Read in the provided example test data\n",
    "test_data_path = data_dir + 'Test_data_example.csv'\n",
    "test_targets_path = data_dir + 'Test_data_example_targets.csv'\n",
    "\n",
    "test_data = pd.read_csv(test_data_path)\n",
    "test_targets = pd.read_csv(test_targets_path)\n",
    "\n",
    "test_data_procsd = pipeline.fit_transform(test_data)\n",
    "\n",
    "\n",
    "alphas = np.logspace(-10, 10, 300)\n",
    "ridge_cv = RidgeCV(alphas=alphas, cv=5)\n",
    "ridge_cv.fit(tddf_train, ttdf_train)\n",
    "print(\"Best alpha for Ridge: \", ridge_cv.alpha_)\n",
    "\n",
    "pred_ridge = ridge_cv.predict(test_data_procsd)\n",
    "\n",
    "rmse_ridge = np.sqrt(mean_squared_error(test_targets, pred_ridge))\n",
    "\n",
    "print(\"RMSE Ridge: \", rmse_ridge)\n",
    "## Retrain your chosen regression model here \n",
    "# For example: lin_reg = LinearRegression()\n",
    "# lin_reg.fit(X_train,y_train) where X_train and y_train is provided training data\n",
    "# Next write the lines of code required to predict on unseen test data and evaluate your predictions\n"
   ]
  },
  {
   "cell_type": "markdown",
   "metadata": {},
   "source": [
    "#test_data_path = data_dir + 'Test_data_example.csv'\n",
    "#test_targets_path = data_dir + 'Test_data_example_targets.csv'\n",
    "#test_data = pd.read_csv(test_data_path)\n",
    "#test_targets = pd.read_csv(test_targets_path)\n",
    "\n",
    "X_test_prepared = full_pipeline.transform(X_test)\n",
    "\n",
    "final_predictions=final_model.predict(X_test_prepared)\n",
    "\n",
    "final_mse = mean_squared_error(y_test,final_predictions)\n",
    "final_rsme = np.sqrt(final_mse)\n",
    "print(final_rsme)"
   ]
  },
  {
   "cell_type": "markdown",
   "metadata": {},
   "source": [
    "# **Classification of 1-year patient mortality following a heart attack**\n",
    "\n",
    "The provided data set contains data from patients who all suffered heart attacks at some point in the past. Some are still alive and some are not. The data provided contains key clinical information (features) for each patient and the prediction task involves identifying (classifying) which patients are likely to survive for at least one year following the heart attack.\n",
    "The provided features (clinical variables) to be used as predictors by your classification models include the following:\n",
    "\n",
    "    1. age-at-heart-attack -- age in years when heart attack occurred\n",
    "    2. pericardial-effusion -- binary. Pericardial effusion is fluid\n",
    "\t\t\t      around the heart.  0=no fluid, 1=fluid\n",
    "    3. fractional-shortening -- a measure of contracility around the heart\n",
    "\t\t\t       lower numbers are increasingly abnormal\n",
    "    4. epss -- E-point septal separation, another measure of contractility.  \n",
    "\t      Larger numbers are increasingly abnormal.\n",
    "    5. lvdd -- left ventricular end-diastolic dimension.  This is\n",
    "\t      a measure of the size of the heart at end-diastole.\n",
    "\t      Large hearts tend to be sick hearts.\n",
    "\n",
    "    6. wall-motion-index -- equals wall-motion-score divided by number of\n",
    "\t\t\t   segments seen.  Usually 12-13 segments are seen\n",
    "\t\t\t   in an echocardiogram.  \n",
    "               \n",
    "The target variable is encoded as a binary outcome of whether a patient survived for 1 year post-heart attack or not. Label '0' indicates that the patient died within one year of a heart attack. Label '1' indicates that the patient survived for at least one year after a heart attack."
   ]
  },
  {
   "cell_type": "markdown",
   "metadata": {},
   "source": [
    "# **Part 7**"
   ]
  },
  {
   "cell_type": "code",
   "execution_count": 39,
   "metadata": {},
   "outputs": [],
   "source": [
    "root_dir = './' # this is to be defined by you \n",
    "local_path = 'Data-for-students-classification/' # store the related data files in this folder\n",
    "data_dir = root_dir + local_path\n",
    "\n",
    "data_features_path = data_dir + 'Heart-attack-data-predictors.csv'\n",
    "data_targets_path = data_dir + 'Heart-attack-data-targets.csv'\n"
   ]
  },
  {
   "cell_type": "code",
   "execution_count": 40,
   "metadata": {},
   "outputs": [],
   "source": [
    "htdf = pd.read_csv(data_features_path)\n",
    "httdf = pd.read_csv(data_targets_path)"
   ]
  },
  {
   "cell_type": "code",
   "execution_count": 41,
   "metadata": {},
   "outputs": [
    {
     "data": {
      "text/html": [
       "<div>\n",
       "<style scoped>\n",
       "    .dataframe tbody tr th:only-of-type {\n",
       "        vertical-align: middle;\n",
       "    }\n",
       "\n",
       "    .dataframe tbody tr th {\n",
       "        vertical-align: top;\n",
       "    }\n",
       "\n",
       "    .dataframe thead th {\n",
       "        text-align: right;\n",
       "    }\n",
       "</style>\n",
       "<table border=\"1\" class=\"dataframe\">\n",
       "  <thead>\n",
       "    <tr style=\"text-align: right;\">\n",
       "      <th></th>\n",
       "      <th>AgeAtHeartAttack</th>\n",
       "      <th>PericardialEffusion</th>\n",
       "      <th>FractionalShortening</th>\n",
       "      <th>epss</th>\n",
       "      <th>lvdd</th>\n",
       "      <th>WallMotionIndex</th>\n",
       "    </tr>\n",
       "  </thead>\n",
       "  <tbody>\n",
       "    <tr>\n",
       "      <th>0</th>\n",
       "      <td>71.0</td>\n",
       "      <td>0</td>\n",
       "      <td>0.260</td>\n",
       "      <td>9.000</td>\n",
       "      <td>4.600</td>\n",
       "      <td>1.00</td>\n",
       "    </tr>\n",
       "    <tr>\n",
       "      <th>1</th>\n",
       "      <td>72.0</td>\n",
       "      <td>0</td>\n",
       "      <td>0.380</td>\n",
       "      <td>6.000</td>\n",
       "      <td>4.100</td>\n",
       "      <td>1.70</td>\n",
       "    </tr>\n",
       "    <tr>\n",
       "      <th>2</th>\n",
       "      <td>55.0</td>\n",
       "      <td>0</td>\n",
       "      <td>0.260</td>\n",
       "      <td>4.000</td>\n",
       "      <td>3.420</td>\n",
       "      <td>1.00</td>\n",
       "    </tr>\n",
       "    <tr>\n",
       "      <th>3</th>\n",
       "      <td>60.0</td>\n",
       "      <td>0</td>\n",
       "      <td>0.253</td>\n",
       "      <td>12.062</td>\n",
       "      <td>4.603</td>\n",
       "      <td>1.45</td>\n",
       "    </tr>\n",
       "    <tr>\n",
       "      <th>4</th>\n",
       "      <td>57.0</td>\n",
       "      <td>0</td>\n",
       "      <td>0.160</td>\n",
       "      <td>22.000</td>\n",
       "      <td>5.750</td>\n",
       "      <td>2.25</td>\n",
       "    </tr>\n",
       "  </tbody>\n",
       "</table>\n",
       "</div>"
      ],
      "text/plain": [
       "   AgeAtHeartAttack  PericardialEffusion  FractionalShortening    epss   lvdd  \\\n",
       "0              71.0                    0                 0.260   9.000  4.600   \n",
       "1              72.0                    0                 0.380   6.000  4.100   \n",
       "2              55.0                    0                 0.260   4.000  3.420   \n",
       "3              60.0                    0                 0.253  12.062  4.603   \n",
       "4              57.0                    0                 0.160  22.000  5.750   \n",
       "\n",
       "   WallMotionIndex  \n",
       "0             1.00  \n",
       "1             1.70  \n",
       "2             1.00  \n",
       "3             1.45  \n",
       "4             2.25  "
      ]
     },
     "execution_count": 41,
     "metadata": {},
     "output_type": "execute_result"
    }
   ],
   "source": [
    "htdf.head()"
   ]
  },
  {
   "cell_type": "code",
   "execution_count": 42,
   "metadata": {},
   "outputs": [
    {
     "data": {
      "text/html": [
       "<div>\n",
       "<style scoped>\n",
       "    .dataframe tbody tr th:only-of-type {\n",
       "        vertical-align: middle;\n",
       "    }\n",
       "\n",
       "    .dataframe tbody tr th {\n",
       "        vertical-align: top;\n",
       "    }\n",
       "\n",
       "    .dataframe thead th {\n",
       "        text-align: right;\n",
       "    }\n",
       "</style>\n",
       "<table border=\"1\" class=\"dataframe\">\n",
       "  <thead>\n",
       "    <tr style=\"text-align: right;\">\n",
       "      <th></th>\n",
       "      <th>Target-class</th>\n",
       "    </tr>\n",
       "  </thead>\n",
       "  <tbody>\n",
       "    <tr>\n",
       "      <th>0</th>\n",
       "      <td>0</td>\n",
       "    </tr>\n",
       "    <tr>\n",
       "      <th>1</th>\n",
       "      <td>0</td>\n",
       "    </tr>\n",
       "    <tr>\n",
       "      <th>2</th>\n",
       "      <td>0</td>\n",
       "    </tr>\n",
       "    <tr>\n",
       "      <th>3</th>\n",
       "      <td>0</td>\n",
       "    </tr>\n",
       "    <tr>\n",
       "      <th>4</th>\n",
       "      <td>0</td>\n",
       "    </tr>\n",
       "  </tbody>\n",
       "</table>\n",
       "</div>"
      ],
      "text/plain": [
       "   Target-class\n",
       "0             0\n",
       "1             0\n",
       "2             0\n",
       "3             0\n",
       "4             0"
      ]
     },
     "execution_count": 42,
     "metadata": {},
     "output_type": "execute_result"
    }
   ],
   "source": [
    "httdf.head()"
   ]
  },
  {
   "cell_type": "code",
   "execution_count": 43,
   "metadata": {},
   "outputs": [
    {
     "data": {
      "text/plain": [
       "array([[<matplotlib.axes._subplots.AxesSubplot object at 0x7f84d4913710>,\n",
       "        <matplotlib.axes._subplots.AxesSubplot object at 0x7f84d9497b50>],\n",
       "       [<matplotlib.axes._subplots.AxesSubplot object at 0x7f84d70eed90>,\n",
       "        <matplotlib.axes._subplots.AxesSubplot object at 0x7f84d4aa8390>],\n",
       "       [<matplotlib.axes._subplots.AxesSubplot object at 0x7f84d3787d90>,\n",
       "        <matplotlib.axes._subplots.AxesSubplot object at 0x7f84d374ad10>]],\n",
       "      dtype=object)"
      ]
     },
     "execution_count": 43,
     "metadata": {},
     "output_type": "execute_result"
    },
    {
     "data": {
      "image/png": "[encoded data removed]",
      "text/plain": [
       "<Figure size 1440x1080 with 6 Axes>"
      ]
     },
     "metadata": {
      "needs_background": "light"
     },
     "output_type": "display_data"
    }
   ],
   "source": [
    "htdf.hist(bins = 10, figsize = (20, 15))"
   ]
  },
  {
   "cell_type": "code",
   "execution_count": 44,
   "metadata": {},
   "outputs": [
    {
     "data": {
      "text/plain": [
       "array([[<matplotlib.axes._subplots.AxesSubplot object at 0x7f84ce54b950>]],\n",
       "      dtype=object)"
      ]
     },
     "execution_count": 44,
     "metadata": {},
     "output_type": "execute_result"
    },
    {
     "data": {
      "image/png": "[encoded data removed]",
      "text/plain": [
       "<Figure size 432x288 with 1 Axes>"
      ]
     },
     "metadata": {
      "needs_background": "light"
     },
     "output_type": "display_data"
    }
   ],
   "source": [
    "httdf.hist()"
   ]
  },
  {
   "cell_type": "code",
   "execution_count": 47,
   "metadata": {},
   "outputs": [
    {
     "data": {
      "text/plain": [
       "0    92\n",
       "1    39\n",
       "Name: Target-class, dtype: int64"
      ]
     },
     "execution_count": 47,
     "metadata": {},
     "output_type": "execute_result"
    }
   ],
   "source": [
    "count_target = httdf['Target-class'].value_counts()\n",
    "count_target"
   ]
  },
  {
   "cell_type": "code",
   "execution_count": 48,
   "metadata": {},
   "outputs": [
    {
     "data": {
      "text/plain": [
       "0    107\n",
       "1     24\n",
       "Name: PericardialEffusion, dtype: int64"
      ]
     },
     "execution_count": 48,
     "metadata": {},
     "output_type": "execute_result"
    }
   ],
   "source": [
    "count_feat = htdf['PericardialEffusion'].value_counts()\n",
    "count_feat"
   ]
  },
  {
   "cell_type": "code",
   "execution_count": 49,
   "metadata": {},
   "outputs": [
    {
     "name": "stderr",
     "output_type": "stream",
     "text": [
      "/opt/anaconda3/lib/python3.7/site-packages/seaborn/_decorators.py:43: FutureWarning: Pass the following variable as a keyword arg: x. From version 0.12, the only valid positional argument will be `data`, and passing other arguments without an explicit keyword will result in an error or misinterpretation.\n",
      "  FutureWarning\n"
     ]
    },
    {
     "data": {
      "text/plain": [
       "<matplotlib.axes._subplots.AxesSubplot at 0x7f84bb745310>"
      ]
     },
     "execution_count": 49,
     "metadata": {},
     "output_type": "execute_result"
    },
    {
     "data": {
      "image/png": "[encoded data removed]",
      "text/plain": [
       "<Figure size 432x288 with 1 Axes>"
      ]
     },
     "metadata": {
      "needs_background": "light"
     },
     "output_type": "display_data"
    }
   ],
   "source": [
    "sns.boxplot(htdf['AgeAtHeartAttack'])"
   ]
  },
  {
   "cell_type": "code",
   "execution_count": 50,
   "metadata": {},
   "outputs": [
    {
     "name": "stderr",
     "output_type": "stream",
     "text": [
      "/opt/anaconda3/lib/python3.7/site-packages/seaborn/_decorators.py:43: FutureWarning: Pass the following variable as a keyword arg: x. From version 0.12, the only valid positional argument will be `data`, and passing other arguments without an explicit keyword will result in an error or misinterpretation.\n",
      "  FutureWarning\n"
     ]
    },
    {
     "data": {
      "text/plain": [
       "<matplotlib.axes._subplots.AxesSubplot at 0x7f84bbbc2050>"
      ]
     },
     "execution_count": 50,
     "metadata": {},
     "output_type": "execute_result"
    },
    {
     "data": {
      "image/png": "[encoded data removed]",
      "text/plain": [
       "<Figure size 432x288 with 1 Axes>"
      ]
     },
     "metadata": {
      "needs_background": "light"
     },
     "output_type": "display_data"
    }
   ],
   "source": [
    "sns.boxplot(htdf['FractionalShortening'])"
   ]
  },
  {
   "cell_type": "code",
   "execution_count": 51,
   "metadata": {},
   "outputs": [
    {
     "name": "stderr",
     "output_type": "stream",
     "text": [
      "/opt/anaconda3/lib/python3.7/site-packages/seaborn/_decorators.py:43: FutureWarning: Pass the following variable as a keyword arg: x. From version 0.12, the only valid positional argument will be `data`, and passing other arguments without an explicit keyword will result in an error or misinterpretation.\n",
      "  FutureWarning\n"
     ]
    },
    {
     "data": {
      "text/plain": [
       "<matplotlib.axes._subplots.AxesSubplot at 0x7f84bbc203d0>"
      ]
     },
     "execution_count": 51,
     "metadata": {},
     "output_type": "execute_result"
    },
    {
     "data": {
      "image/png": "[encoded data removed]",
      "text/plain": [
       "<Figure size 432x288 with 1 Axes>"
      ]
     },
     "metadata": {
      "needs_background": "light"
     },
     "output_type": "display_data"
    }
   ],
   "source": [
    "sns.boxplot(htdf['epss'])"
   ]
  },
  {
   "cell_type": "code",
   "execution_count": 52,
   "metadata": {},
   "outputs": [
    {
     "name": "stderr",
     "output_type": "stream",
     "text": [
      "/opt/anaconda3/lib/python3.7/site-packages/seaborn/_decorators.py:43: FutureWarning: Pass the following variable as a keyword arg: x. From version 0.12, the only valid positional argument will be `data`, and passing other arguments without an explicit keyword will result in an error or misinterpretation.\n",
      "  FutureWarning\n"
     ]
    },
    {
     "data": {
      "text/plain": [
       "<matplotlib.axes._subplots.AxesSubplot at 0x7f84bbe1a750>"
      ]
     },
     "execution_count": 52,
     "metadata": {},
     "output_type": "execute_result"
    },
    {
     "data": {
      "image/png": "[encoded data removed]",
      "text/plain": [
       "<Figure size 432x288 with 1 Axes>"
      ]
     },
     "metadata": {
      "needs_background": "light"
     },
     "output_type": "display_data"
    }
   ],
   "source": [
    "sns.boxplot(htdf['lvdd'])"
   ]
  },
  {
   "cell_type": "code",
   "execution_count": 53,
   "metadata": {},
   "outputs": [
    {
     "name": "stderr",
     "output_type": "stream",
     "text": [
      "/opt/anaconda3/lib/python3.7/site-packages/seaborn/_decorators.py:43: FutureWarning: Pass the following variable as a keyword arg: x. From version 0.12, the only valid positional argument will be `data`, and passing other arguments without an explicit keyword will result in an error or misinterpretation.\n",
      "  FutureWarning\n"
     ]
    },
    {
     "data": {
      "text/plain": [
       "<matplotlib.axes._subplots.AxesSubplot at 0x7f84bbbb4b90>"
      ]
     },
     "execution_count": 53,
     "metadata": {},
     "output_type": "execute_result"
    },
    {
     "data": {
      "image/png": "[encoded data removed]",
      "text/plain": [
       "<Figure size 432x288 with 1 Axes>"
      ]
     },
     "metadata": {
      "needs_background": "light"
     },
     "output_type": "display_data"
    }
   ],
   "source": [
    "sns.boxplot(htdf['WallMotionIndex'])"
   ]
  },
  {
   "cell_type": "code",
   "execution_count": 54,
   "metadata": {},
   "outputs": [
    {
     "data": {
      "text/plain": [
       "AgeAtHeartAttack         5\n",
       "PericardialEffusion      0\n",
       "FractionalShortening     7\n",
       "epss                    14\n",
       "lvdd                    10\n",
       "WallMotionIndex          1\n",
       "dtype: int64"
      ]
     },
     "execution_count": 54,
     "metadata": {},
     "output_type": "execute_result"
    }
   ],
   "source": [
    "null_values = htdf.isnull().sum()\n",
    "null_values"
   ]
  },
  {
   "cell_type": "code",
   "execution_count": 55,
   "metadata": {},
   "outputs": [
    {
     "data": {
      "text/plain": [
       "SimpleImputer(strategy='median')"
      ]
     },
     "execution_count": 55,
     "metadata": {},
     "output_type": "execute_result"
    }
   ],
   "source": [
    "clean_htdf = htdf  # create a copy of the original DataFrame named 'clean_htdf'\n",
    "imputer = SimpleImputer(strategy=\"median\")  # create an instance of SimpleImputer with median strategy\n",
    "clean_htdf = clean_htdf.fillna(clean_htdf.median())  # fill missing values in 'clean_htdf' using median of each column\n",
    "imputer.fit(clean_htdf)  # fit the imputer to 'clean_htdf'"
   ]
  },
  {
   "cell_type": "code",
   "execution_count": 56,
   "metadata": {},
   "outputs": [
    {
     "data": {
      "text/plain": [
       "AgeAtHeartAttack        0\n",
       "PericardialEffusion     0\n",
       "FractionalShortening    0\n",
       "epss                    0\n",
       "lvdd                    0\n",
       "WallMotionIndex         0\n",
       "dtype: int64"
      ]
     },
     "execution_count": 56,
     "metadata": {},
     "output_type": "execute_result"
    }
   ],
   "source": [
    "null_values = clean_htdf.isnull().sum()\n",
    "null_values"
   ]
  },
  {
   "cell_type": "code",
   "execution_count": 57,
   "metadata": {},
   "outputs": [],
   "source": [
    "import pandas as pd  # Importing pandas library for working with dataframes\n",
    "from scipy.stats import zscore  # Importing scipy.stats for zscore function\n",
    "\n",
    "z_htdf = clean_htdf.apply(zscore)  # Applying zscore on clean_htdf dataframe to standardize the data\n",
    "z_htdf = z_htdf.drop('PericardialEffusion', axis = 1)  # Removing the target column 'PericardialEffusion' from the standardized dataframe\n",
    "outlier_threshold = 3  # Threshold value for outlier removal\n",
    "clean_htdf = clean_htdf[(z_htdf < outlier_threshold).all(axis=1)]  # Keeping only those rows in clean_htdf dataframe whose z-score values are less than 3 or greater than -3 for all the features"
   ]
  },
  {
   "cell_type": "code",
   "execution_count": 58,
   "metadata": {},
   "outputs": [
    {
     "data": {
      "text/html": [
       "<div>\n",
       "<style scoped>\n",
       "    .dataframe tbody tr th:only-of-type {\n",
       "        vertical-align: middle;\n",
       "    }\n",
       "\n",
       "    .dataframe tbody tr th {\n",
       "        vertical-align: top;\n",
       "    }\n",
       "\n",
       "    .dataframe thead th {\n",
       "        text-align: right;\n",
       "    }\n",
       "</style>\n",
       "<table border=\"1\" class=\"dataframe\">\n",
       "  <thead>\n",
       "    <tr style=\"text-align: right;\">\n",
       "      <th></th>\n",
       "      <th>AgeAtHeartAttack</th>\n",
       "      <th>PericardialEffusion</th>\n",
       "      <th>FractionalShortening</th>\n",
       "      <th>epss</th>\n",
       "      <th>lvdd</th>\n",
       "      <th>WallMotionIndex</th>\n",
       "    </tr>\n",
       "  </thead>\n",
       "  <tbody>\n",
       "    <tr>\n",
       "      <th>0</th>\n",
       "      <td>71.0</td>\n",
       "      <td>0</td>\n",
       "      <td>0.260</td>\n",
       "      <td>9.000</td>\n",
       "      <td>4.600</td>\n",
       "      <td>1.000</td>\n",
       "    </tr>\n",
       "    <tr>\n",
       "      <th>1</th>\n",
       "      <td>72.0</td>\n",
       "      <td>0</td>\n",
       "      <td>0.380</td>\n",
       "      <td>6.000</td>\n",
       "      <td>4.100</td>\n",
       "      <td>1.700</td>\n",
       "    </tr>\n",
       "    <tr>\n",
       "      <th>2</th>\n",
       "      <td>55.0</td>\n",
       "      <td>0</td>\n",
       "      <td>0.260</td>\n",
       "      <td>4.000</td>\n",
       "      <td>3.420</td>\n",
       "      <td>1.000</td>\n",
       "    </tr>\n",
       "    <tr>\n",
       "      <th>3</th>\n",
       "      <td>60.0</td>\n",
       "      <td>0</td>\n",
       "      <td>0.253</td>\n",
       "      <td>12.062</td>\n",
       "      <td>4.603</td>\n",
       "      <td>1.450</td>\n",
       "    </tr>\n",
       "    <tr>\n",
       "      <th>4</th>\n",
       "      <td>57.0</td>\n",
       "      <td>0</td>\n",
       "      <td>0.160</td>\n",
       "      <td>22.000</td>\n",
       "      <td>5.750</td>\n",
       "      <td>2.250</td>\n",
       "    </tr>\n",
       "    <tr>\n",
       "      <th>...</th>\n",
       "      <td>...</td>\n",
       "      <td>...</td>\n",
       "      <td>...</td>\n",
       "      <td>...</td>\n",
       "      <td>...</td>\n",
       "      <td>...</td>\n",
       "    </tr>\n",
       "    <tr>\n",
       "      <th>126</th>\n",
       "      <td>64.0</td>\n",
       "      <td>0</td>\n",
       "      <td>0.240</td>\n",
       "      <td>12.900</td>\n",
       "      <td>4.720</td>\n",
       "      <td>1.000</td>\n",
       "    </tr>\n",
       "    <tr>\n",
       "      <th>127</th>\n",
       "      <td>64.0</td>\n",
       "      <td>0</td>\n",
       "      <td>0.280</td>\n",
       "      <td>5.400</td>\n",
       "      <td>5.470</td>\n",
       "      <td>1.100</td>\n",
       "    </tr>\n",
       "    <tr>\n",
       "      <th>128</th>\n",
       "      <td>69.0</td>\n",
       "      <td>0</td>\n",
       "      <td>0.200</td>\n",
       "      <td>7.000</td>\n",
       "      <td>5.050</td>\n",
       "      <td>1.210</td>\n",
       "    </tr>\n",
       "    <tr>\n",
       "      <th>129</th>\n",
       "      <td>57.0</td>\n",
       "      <td>0</td>\n",
       "      <td>0.140</td>\n",
       "      <td>16.100</td>\n",
       "      <td>4.360</td>\n",
       "      <td>1.360</td>\n",
       "    </tr>\n",
       "    <tr>\n",
       "      <th>130</th>\n",
       "      <td>62.0</td>\n",
       "      <td>0</td>\n",
       "      <td>0.150</td>\n",
       "      <td>0.000</td>\n",
       "      <td>4.510</td>\n",
       "      <td>1.409</td>\n",
       "    </tr>\n",
       "  </tbody>\n",
       "</table>\n",
       "<p>127 rows × 6 columns</p>\n",
       "</div>"
      ],
      "text/plain": [
       "     AgeAtHeartAttack  PericardialEffusion  FractionalShortening    epss  \\\n",
       "0                71.0                    0                 0.260   9.000   \n",
       "1                72.0                    0                 0.380   6.000   \n",
       "2                55.0                    0                 0.260   4.000   \n",
       "3                60.0                    0                 0.253  12.062   \n",
       "4                57.0                    0                 0.160  22.000   \n",
       "..                ...                  ...                   ...     ...   \n",
       "126              64.0                    0                 0.240  12.900   \n",
       "127              64.0                    0                 0.280   5.400   \n",
       "128              69.0                    0                 0.200   7.000   \n",
       "129              57.0                    0                 0.140  16.100   \n",
       "130              62.0                    0                 0.150   0.000   \n",
       "\n",
       "      lvdd  WallMotionIndex  \n",
       "0    4.600            1.000  \n",
       "1    4.100            1.700  \n",
       "2    3.420            1.000  \n",
       "3    4.603            1.450  \n",
       "4    5.750            2.250  \n",
       "..     ...              ...  \n",
       "126  4.720            1.000  \n",
       "127  5.470            1.100  \n",
       "128  5.050            1.210  \n",
       "129  4.360            1.360  \n",
       "130  4.510            1.409  \n",
       "\n",
       "[127 rows x 6 columns]"
      ]
     },
     "execution_count": 58,
     "metadata": {},
     "output_type": "execute_result"
    }
   ],
   "source": [
    "clean_htdf"
   ]
  },
  {
   "cell_type": "code",
   "execution_count": 59,
   "metadata": {},
   "outputs": [
    {
     "name": "stderr",
     "output_type": "stream",
     "text": [
      "/opt/anaconda3/lib/python3.7/site-packages/seaborn/_decorators.py:43: FutureWarning: Pass the following variable as a keyword arg: x. From version 0.12, the only valid positional argument will be `data`, and passing other arguments without an explicit keyword will result in an error or misinterpretation.\n",
      "  FutureWarning\n"
     ]
    },
    {
     "data": {
      "text/plain": [
       "<matplotlib.axes._subplots.AxesSubplot at 0x7f84bbfc74d0>"
      ]
     },
     "execution_count": 59,
     "metadata": {},
     "output_type": "execute_result"
    },
    {
     "data": {
      "image/png": "[encoded data removed]",
      "text/plain": [
       "<Figure size 432x288 with 1 Axes>"
      ]
     },
     "metadata": {
      "needs_background": "light"
     },
     "output_type": "display_data"
    }
   ],
   "source": [
    "sns.boxplot(clean_htdf['lvdd'])"
   ]
  },
  {
   "cell_type": "markdown",
   "metadata": {},
   "source": [
    "# **Part 8**\n",
    "\n",
    "The following is a Machine learning pipeline using scikit-learn and pre-processing the data"
   ]
  },
  {
   "cell_type": "code",
   "execution_count": 67,
   "metadata": {},
   "outputs": [],
   "source": [
    "x_Train, x_Test, y_train, y_test = train_test_split(htdf, httdf, test_size=0.2, random_state=22)\n",
    "x_train = pipeline.fit_transform(x_Train)\n",
    "x_test = pipeline.fit_transform(x_Test)"
   ]
  },
  {
   "cell_type": "code",
   "execution_count": 68,
   "metadata": {},
   "outputs": [
    {
     "data": {
      "text/plain": [
       "(104, 6)"
      ]
     },
     "execution_count": 68,
     "metadata": {},
     "output_type": "execute_result"
    }
   ],
   "source": [
    "x_train.shape"
   ]
  },
  {
   "cell_type": "code",
   "execution_count": 69,
   "metadata": {},
   "outputs": [
    {
     "data": {
      "text/plain": [
       "(27, 6)"
      ]
     },
     "execution_count": 69,
     "metadata": {},
     "output_type": "execute_result"
    }
   ],
   "source": [
    "x_test.shape"
   ]
  },
  {
   "cell_type": "code",
   "execution_count": 70,
   "metadata": {},
   "outputs": [
    {
     "data": {
      "text/plain": [
       "(104, 1)"
      ]
     },
     "execution_count": 70,
     "metadata": {},
     "output_type": "execute_result"
    }
   ],
   "source": [
    "y_train.shape"
   ]
  },
  {
   "cell_type": "code",
   "execution_count": 71,
   "metadata": {},
   "outputs": [
    {
     "data": {
      "text/plain": [
       "(27, 1)"
      ]
     },
     "execution_count": 71,
     "metadata": {},
     "output_type": "execute_result"
    }
   ],
   "source": [
    "y_test.shape"
   ]
  },
  {
   "cell_type": "markdown",
   "metadata": {},
   "source": [
    "# **Part 9**\n",
    "\n",
    "I will train logistic regression classifiers, with and without L1 and L2 regularisation, using the data and compare and evaluate their performance."
   ]
  },
  {
   "cell_type": "code",
   "execution_count": 72,
   "metadata": {},
   "outputs": [
    {
     "name": "stdout",
     "output_type": "stream",
     "text": [
      "Accuracy without regularization: 0.704\n",
      "Precision no reg: 0.4\n",
      "Recall no reg: 0.2857142857142857\n"
     ]
    },
    {
     "name": "stderr",
     "output_type": "stream",
     "text": [
      "/opt/anaconda3/lib/python3.7/site-packages/sklearn/utils/validation.py:993: DataConversionWarning: A column-vector y was passed when a 1d array was expected. Please change the shape of y to (n_samples, ), for example using ravel().\n",
      "  y = column_or_1d(y, warn=True)\n"
     ]
    }
   ],
   "source": [
    "# Create a logistic regression classifier object without regularization\n",
    "logReg = LogisticRegression(penalty = 'none')\n",
    "\n",
    "# Fit the model to the training data\n",
    "logReg.fit(x_train, y_train)\n",
    "\n",
    "# Predict the class labels for the test data using the trained model\n",
    "y_pred_logReg = logReg.predict(x_test)\n",
    "\n",
    "# Compute the accuracy of the model on the test data\n",
    "acc_logReg = accuracy_score(y_test, y_pred_logReg)\n",
    "\n",
    "# Compute the precision score of the model on the test data\n",
    "pres_logReg = precision_score(y_test, y_pred_logReg)\n",
    "\n",
    "# Compute the recall score of the model on the test data\n",
    "recall_logReg = recall_score(y_test, y_pred_logReg)\n",
    "\n",
    "# Print the accuracy, precision, and recall scores of the model on the test data\n",
    "print(\"Accuracy without regularization: {:.3f}\".format(acc_logReg))\n",
    "print('Precision no reg:', pres_logReg)\n",
    "print('Recall no reg:', recall_logReg)"
   ]
  },
  {
   "cell_type": "code",
   "execution_count": 73,
   "metadata": {},
   "outputs": [
    {
     "name": "stdout",
     "output_type": "stream",
     "text": [
      "Best parameters:  {'C': 10, 'penalty': 'l1'}\n",
      "Best accuracy:  0.7309523809523809\n",
      "Best precision:  0.562857142857143\n",
      "Best recall:  0.43809523809523804\n"
     ]
    },
    {
     "name": "stderr",
     "output_type": "stream",
     "text": [
      "/opt/anaconda3/lib/python3.7/site-packages/sklearn/utils/validation.py:993: DataConversionWarning: A column-vector y was passed when a 1d array was expected. Please change the shape of y to (n_samples, ), for example using ravel().\n",
      "  y = column_or_1d(y, warn=True)\n"
     ]
    }
   ],
   "source": [
    "# Define the parameter grid for L1-penalized logistic regression\n",
    "param_grid_l1 = {'penalty': ['l1'], 'C': [0.001, 0.01, 0.1, 1, 10, 100]}\n",
    "\n",
    "# Create a logistic regression object with the 'saga' solver\n",
    "log_reg = LogisticRegression(solver='saga')\n",
    "\n",
    "# Define the scoring metrics for GridSearchCV\n",
    "scoring = {'accuracy': 'accuracy', 'precision': 'precision', 'recall': 'recall'}\n",
    "\n",
    "# Create a GridSearchCV object with 5-fold cross-validation, parallel processing, and refitting based on accuracy\n",
    "grid_search = GridSearchCV(log_reg, param_grid_l1, cv=5, n_jobs=-1, scoring=scoring, refit='accuracy')\n",
    "\n",
    "# Fit the GridSearchCV object to the training data\n",
    "grid_search.fit(x_train, y_train)\n",
    "\n",
    "# Print the best hyperparameters found by GridSearchCV and their corresponding scores\n",
    "print(\"Best parameters: \", grid_search.best_params_)\n",
    "print(\"Best accuracy: \", grid_search.best_score_)\n",
    "print(\"Best precision: \", grid_search.cv_results_['mean_test_precision'][grid_search.best_index_])\n",
    "print(\"Best recall: \", grid_search.cv_results_['mean_test_recall'][grid_search.best_index_])\n"
   ]
  },
  {
   "cell_type": "code",
   "execution_count": 74,
   "metadata": {},
   "outputs": [
    {
     "name": "stdout",
     "output_type": "stream",
     "text": [
      "Best parameters:  {'C': 1, 'penalty': 'l2'}\n",
      "Best accuracy:  0.7309523809523809\n",
      "Best precision:  0.562857142857143\n",
      "Best recall:  0.43809523809523804\n"
     ]
    },
    {
     "name": "stderr",
     "output_type": "stream",
     "text": [
      "/opt/anaconda3/lib/python3.7/site-packages/sklearn/utils/validation.py:993: DataConversionWarning: A column-vector y was passed when a 1d array was expected. Please change the shape of y to (n_samples, ), for example using ravel().\n",
      "  y = column_or_1d(y, warn=True)\n"
     ]
    }
   ],
   "source": [
    "param_grid_l2 = {'penalty': ['l2'],\n",
    "              'C': [0.001, 0.01, 0.1, 1, 10, 100]}\n",
    "log_reg = LogisticRegression(solver='saga')\n",
    "\n",
    "# create the GridSearchCV object\n",
    "scoring = {'accuracy': 'accuracy', 'precision': 'precision', 'recall': 'recall'}\n",
    "grid_search = GridSearchCV(log_reg, param_grid_l2, cv=5, n_jobs=-1, scoring=scoring, refit='accuracy')\n",
    "\n",
    "# fit the GridSearchCV object to the data\n",
    "grid_search.fit(x_train, y_train)\n",
    "\n",
    "# print the best parameters and the corresponding score\n",
    "print(\"Best parameters: \", grid_search.best_params_)\n",
    "print(\"Best accuracy: \", grid_search.best_score_)\n",
    "print(\"Best precision: \", grid_search.cv_results_['mean_test_precision'][grid_search.best_index_])\n",
    "print(\"Best recall: \", grid_search.cv_results_['mean_test_recall'][grid_search.best_index_])"
   ]
  },
  {
   "cell_type": "markdown",
   "metadata": {},
   "source": [
    "The three classifiers evaluated in the code are logistic regression without regularization, logistic regression with L1-penalty regularization, and logistic regression with L2-penalty regularization.\n",
    "\n",
    "The first logistic regression model is trained without regularization and evaluated for accuracy, precision, and recall. The accuracy score obtained is 0.704, the precision score is 0.4, and the recall score is 0.2857.\n",
    "\n",
    "The second and third logistic regression models use GridSearchCV to tune hyperparameters for L1-penalty and L2-penalty regularization, respectively. The best hyperparameters and their corresponding scores are printed for each model. The best performing hyperparameters for L1-penalty are {'C': 10, 'penalty': 'l1'} with an accuracy score of 0.731, precision score of 0.563, and recall score of 0.438. The best performing hyperparameters for L2-penalty are {'C': 1, 'penalty': 'l2'} with an accuracy score of 0.731, precision score of 0.563, and recall score of 0.438.\n",
    "\n",
    "Based on the evaluation metrics, the two logistic regression models with regularization perform similarly and better than the logistic regression model without regularization. The L1-penalty and L2-penalty models have the same scores for accuracy, precision, and recall. Therefore, both can be considered the best performing classifiers for this dataset."
   ]
  },
  {
   "cell_type": "markdown",
   "metadata": {},
   "source": [
    "# **Part 10**\n",
    "\n",
    "I will train a Random Forest classifier using the data and quantitatively evaluate and compare the Random Forest classifier with the best logistic regression classifier identified from Part 9. "
   ]
  },
  {
   "cell_type": "code",
   "execution_count": 76,
   "metadata": {},
   "outputs": [
    {
     "name": "stderr",
     "output_type": "stream",
     "text": [
      "/opt/anaconda3/lib/python3.7/site-packages/ipykernel_launcher.py:5: DataConversionWarning: A column-vector y was passed when a 1d array was expected. Please change the shape of y to (n_samples,), for example using ravel().\n",
      "  \"\"\"\n"
     ]
    },
    {
     "name": "stdout",
     "output_type": "stream",
     "text": [
      "Random Forest classifier:\n",
      "Accuracy: 0.7037037037037037\n",
      "Precision: 0.42857142857142855\n",
      "Recall: 0.42857142857142855\n"
     ]
    }
   ],
   "source": [
    "# create a Random Forest classifier object with 500 decision trees and a random seed of 23\n",
    "rfc = RandomForestClassifier(n_estimators=500, random_state=23)\n",
    "\n",
    "# fit the classifier to the training data\n",
    "rfc.fit(x_train, y_train)\n",
    "\n",
    "# use the classifier to predict the labels of the test data\n",
    "y_pred = rfc.predict(x_test)\n",
    "\n",
    "# calculate the accuracy, precision, and recall of the predicted labels compared to the true labels\n",
    "accuracy = accuracy_score(y_test, y_pred)\n",
    "precision = precision_score(y_test, y_pred)\n",
    "recall = recall_score(y_test, y_pred)\n",
    "\n",
    "# print the evaluation metrics\n",
    "print('Random Forest classifier:')\n",
    "print('Accuracy:', accuracy)\n",
    "print('Precision:', precision)\n",
    "print('Recall:', recall)"
   ]
  },
  {
   "cell_type": "code",
   "execution_count": 77,
   "metadata": {},
   "outputs": [],
   "source": [
    "feat_importance_for = rfc.feature_importances_\n",
    "# initialize an empty dictionary to hold the feature importance scores for the RandomForestClassifier\n",
    "feat_forest_for = {}\n",
    "# loop over the features and their importance scores\n",
    "for num_feat in range(len(feat_importance_for)):\n",
    "    # assign the importance score to its corresponding feature name and add it to the dictionary\n",
    "    feat_forest_for[htdf.columns[num_feat]] = feat_importance_for[num_feat]"
   ]
  },
  {
   "cell_type": "code",
   "execution_count": 78,
   "metadata": {},
   "outputs": [
    {
     "data": {
      "text/plain": [
       "{'WallMotionIndex': 0.3022696195922675,\n",
       " 'AgeAtHeartAttack': 0.18839815117216874,\n",
       " 'epss': 0.18514035585675848,\n",
       " 'lvdd': 0.1641494638648824,\n",
       " 'FractionalShortening': 0.13854872469961263}"
      ]
     },
     "execution_count": 78,
     "metadata": {},
     "output_type": "execute_result"
    }
   ],
   "source": [
    "sorted_feat_forest_for = dict(sorted(feat_forest_for.items(), key=lambda item: item[1], reverse=True)[:5])\n",
    "sorted_feat_forest_for"
   ]
  },
  {
   "cell_type": "markdown",
   "metadata": {},
   "source": [
    "Based on the evaluation metrics obtained, the Random Forest classifier has an accuracy of 0.704, precision of 0.4, and recall of 0.285. On the other hand, the best logistic regression classifier has an accuracy of 0.731, precision of 0.563, and recall of 0.438.\n",
    "\n",
    "Comparing the performance of both classifiers, the logistic regression classifier with L2 regularization outperforms the Random Forest classifier in terms of accuracy, precision, and recall. Therefore, it can be concluded that the logistic regression classifier with L2 regularization is the best performing classifier for this dataset. This conclusion is supported by the evaluation metrics obtained and the hyperparameter tuning conducted through GridSearchCV, which ensured that the best possible hyperparameters were selected for the logistic regression classifier."
   ]
  }
 ],
 "metadata": {
  "colab": {
   "collapsed_sections": [],
   "name": "COMP5611M-Coursework Assessment(SampleAnswers).ipynb",
   "provenance": []
  },
  "kernelspec": {
   "display_name": "Python 3 (ipykernel)",
   "language": "python",
   "name": "python3"
  },
  "language_info": {
   "codemirror_mode": {
    "name": "ipython",
    "version": 3
   },
   "file_extension": ".py",
   "mimetype": "text/x-python",
   "name": "python",
   "nbconvert_exporter": "python",
   "pygments_lexer": "ipython3",
   "version": "3.11.7"
  }
 },
 "nbformat": 4,
 "nbformat_minor": 4
}
